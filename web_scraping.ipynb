{
 "cells": [
  {
   "cell_type": "markdown",
   "metadata": {
    "id": "LbCIzNt55gZ8"
   },
   "source": [
    "# Introdução ao Web Scraping com Python\n",
    "\n",
    "Esta sequência mostra como extrair dados de sites utilizando ferramentas nativas do Python e bibliotecas populares.\n",
    "\n",
    "---\n"
   ]
  },
  {
   "cell_type": "markdown",
   "metadata": {
    "id": "LpK0NmFL5l1_"
   },
   "source": [
    "## 1. Usando urllib para baixar o HTML\n",
    "\n",
    "Utilizamos a biblioteca `urllib`, que já vem com o Python, para fazer uma requisição HTTP simples e obter o conteúdo HTML de uma página.\n",
    "\n",
    "---"
   ]
  },
  {
   "cell_type": "code",
   "execution_count": 75,
   "metadata": {
    "colab": {
     "base_uri": "https://localhost:8080/"
    },
    "id": "Zknp21bM5evd",
    "outputId": "f6c77d26-fdda-4d1a-85bc-a3a58c919ce7"
   },
   "outputs": [],
   "source": [
    "import urllib.request"
   ]
  },
  {
   "cell_type": "code",
   "execution_count": 76,
   "metadata": {
    "colab": {
     "base_uri": "https://localhost:8080/"
    },
    "id": "Zknp21bM5evd",
    "outputId": "f6c77d26-fdda-4d1a-85bc-a3a58c919ce7"
   },
   "outputs": [],
   "source": [
    "url = 'http://quotes.toscrape.com'\n",
    "html = urllib.request.urlopen(url).read()\n",
    "#html"
   ]
  },
  {
   "cell_type": "markdown",
   "metadata": {
    "id": "EGGomDH16osU"
   },
   "source": [
    "## 2. Usando `requests` para baixar o HTML\n",
    "\n",
    "Agora, vamos usar a biblioteca `requests` para fazer uma requisição HTTP simples e obter o conteúdo HTML da página. É uma forma moderna, legível e eficiente de começar qualquer processo de web scraping.\n",
    "\n",
    "---"
   ]
  },
  {
   "cell_type": "code",
   "execution_count": 83,
   "metadata": {
    "colab": {
     "base_uri": "https://localhost:8080/",
     "height": 36
    },
    "id": "RuLA6QC36DjY",
    "outputId": "4f67e339-9ceb-49eb-8905-aa8a4bea9ffb"
   },
   "outputs": [
    {
     "data": {
      "text/plain": [
       "'instação feita com sucesso!'"
      ]
     },
     "execution_count": 83,
     "metadata": {},
     "output_type": "execute_result"
    }
   ],
   "source": [
    "!pip install -q requests\n",
    "\"instação feita com sucesso!\""
   ]
  },
  {
   "cell_type": "code",
   "execution_count": 5,
   "metadata": {
    "colab": {
     "base_uri": "https://localhost:8080/",
     "height": 122
    },
    "id": "MYjAjBhe6ZmV",
    "outputId": "bfe70388-d7da-49f6-be48-ac2374c2eeff"
   },
   "outputs": [],
   "source": [
    "import requests"
   ]
  },
  {
   "cell_type": "code",
   "execution_count": 6,
   "metadata": {
    "colab": {
     "base_uri": "https://localhost:8080/",
     "height": 122
    },
    "id": "MYjAjBhe6ZmV",
    "outputId": "bfe70388-d7da-49f6-be48-ac2374c2eeff"
   },
   "outputs": [],
   "source": [
    "url = 'https://pt.wikipedia.org/wiki/Protocolo_de_Transfer%C3%AAncia_de_Arquivos'\n",
    "response = requests.get(url)\n",
    "html2 = response.text\n",
    "#html2"
   ]
  },
  {
   "cell_type": "markdown",
   "metadata": {
    "id": "0Zw2SeSB8_hu"
   },
   "source": [
    "## 3. Praticando o Requests\n",
    "\n",
    "✅ O que requests faz:\n",
    "Baixa o HTML (texto bruto da página)\n",
    "\n",
    "❌ O que requests não faz sozinho:\n",
    "Não entende a estrutura do HTML (não \"sabe\" o que é um <title>, <p>, etc.)\n",
    "\n",
    "Não permite buscar facilmente tags ou atributos\n",
    "---"
   ]
  },
  {
   "cell_type": "code",
   "execution_count": 8,
   "metadata": {
    "colab": {
     "base_uri": "https://localhost:8080/"
    },
    "id": "hIR0Vevz7Okx",
    "outputId": "f83f5dfc-3931-469a-d3d0-9519f5194198"
   },
   "outputs": [],
   "source": [
    "import requests"
   ]
  },
  {
   "cell_type": "code",
   "execution_count": 9,
   "metadata": {
    "colab": {
     "base_uri": "https://localhost:8080/"
    },
    "id": "hIR0Vevz7Okx",
    "outputId": "f83f5dfc-3931-469a-d3d0-9519f5194198"
   },
   "outputs": [],
   "source": [
    "url = \"https://guilhermeonrails.github.io/ferramentas-por-navegador/\"\n",
    "response = requests.get(url)"
   ]
  },
  {
   "cell_type": "code",
   "execution_count": 10,
   "metadata": {
    "colab": {
     "base_uri": "https://localhost:8080/"
    },
    "id": "hIR0Vevz7Okx",
    "outputId": "f83f5dfc-3931-469a-d3d0-9519f5194198"
   },
   "outputs": [],
   "source": [
    "# Você pode buscar o <title> com string methods, mas é trabalhoso e frágil\n",
    "html = response.text"
   ]
  },
  {
   "cell_type": "code",
   "execution_count": 11,
   "metadata": {
    "colab": {
     "base_uri": "https://localhost:8080/"
    },
    "id": "hIR0Vevz7Okx",
    "outputId": "f83f5dfc-3931-469a-d3d0-9519f5194198"
   },
   "outputs": [],
   "source": [
    "start = html.find(\"<title>\")\n",
    "end = html.find(\"</title>\")\n",
    "title = html[start:end]"
   ]
  },
  {
   "cell_type": "code",
   "execution_count": 12,
   "metadata": {
    "colab": {
     "base_uri": "https://localhost:8080/"
    },
    "id": "hIR0Vevz7Okx",
    "outputId": "f83f5dfc-3931-469a-d3d0-9519f5194198"
   },
   "outputs": [
    {
     "data": {
      "text/plain": [
       "'<title>Atalhos e Menus - Ferramentas do Desenvolvedor'"
      ]
     },
     "execution_count": 12,
     "metadata": {},
     "output_type": "execute_result"
    }
   ],
   "source": [
    "title"
   ]
  },
  {
   "cell_type": "code",
   "execution_count": 13,
   "metadata": {
    "colab": {
     "base_uri": "https://localhost:8080/"
    },
    "id": "jYLLmtji9jFT",
    "outputId": "1d185d3f-96a3-435a-dd91-c95f1b20f8f7"
   },
   "outputs": [
    {
     "name": "stdout",
     "output_type": "stream",
     "text": [
      "Atalhos e Menus - Ferramentas do Desenvolvedor\n"
     ]
    }
   ],
   "source": [
    "title = html[start+7:end]\n",
    "print(title)"
   ]
  },
  {
   "cell_type": "markdown",
   "metadata": {
    "id": "EfmoPlm49y0Y"
   },
   "source": [
    "## 4. BeautifulSoup\n",
    "\n",
    "Agora vamos usar o BeautifulSoup junto com requests para extrair o `<title>` da página.\n",
    "\n",
    "---"
   ]
  },
  {
   "cell_type": "code",
   "execution_count": 14,
   "metadata": {
    "colab": {
     "base_uri": "https://localhost:8080/"
    },
    "id": "gRHg5EpH9_-H",
    "outputId": "1b1a68f1-e080-4025-bc14-d8fef83ad2ea"
   },
   "outputs": [],
   "source": [
    "import requests\n",
    "from bs4 import BeautifulSoup\n",
    "import pandas as pd"
   ]
  },
  {
   "cell_type": "code",
   "execution_count": 15,
   "metadata": {
    "colab": {
     "base_uri": "https://localhost:8080/"
    },
    "id": "gRHg5EpH9_-H",
    "outputId": "1b1a68f1-e080-4025-bc14-d8fef83ad2ea"
   },
   "outputs": [],
   "source": [
    "url = \"https://guilhermeonrails.github.io/ferramentas-por-navegador/\"\n",
    "response = requests.get(url)"
   ]
  },
  {
   "cell_type": "code",
   "execution_count": 16,
   "metadata": {
    "colab": {
     "base_uri": "https://localhost:8080/"
    },
    "id": "gRHg5EpH9_-H",
    "outputId": "1b1a68f1-e080-4025-bc14-d8fef83ad2ea"
   },
   "outputs": [],
   "source": [
    "text = BeautifulSoup(response.text, \"html.parser\")\n"
   ]
  },
  {
   "cell_type": "code",
   "execution_count": 17,
   "metadata": {},
   "outputs": [
    {
     "name": "stdout",
     "output_type": "stream",
     "text": [
      "<title>Atalhos e Menus - Ferramentas do Desenvolvedor</title>\n"
     ]
    }
   ],
   "source": [
    "print(text.title)"
   ]
  },
  {
   "cell_type": "code",
   "execution_count": null,
   "metadata": {},
   "outputs": [],
   "source": []
  },
  {
   "cell_type": "markdown",
   "metadata": {
    "id": "jpReU986-j3w"
   },
   "source": [
    "## 5. Painel do clima\n",
    "\n",
    "[Acessando o painel site do painel do clima.](https://guilhermeonrails.github.io/clima-tempo/)\n",
    "\n",
    "---"
   ]
  },
  {
   "cell_type": "code",
   "execution_count": 18,
   "metadata": {},
   "outputs": [],
   "source": [
    "html = \"<html><body><h1>Olá, mundo!</h1></body></html>\""
   ]
  },
  {
   "cell_type": "code",
   "execution_count": 19,
   "metadata": {},
   "outputs": [],
   "source": [
    "\n",
    "soup = BeautifulSoup(html, 'html.parser')"
   ]
  },
  {
   "cell_type": "code",
   "execution_count": 20,
   "metadata": {
    "colab": {
     "base_uri": "https://localhost:8080/"
    },
    "id": "F5Ok4_vCMPnn",
    "outputId": "f27d8ec9-4e02-4dff-e477-fd87296fd48a"
   },
   "outputs": [
    {
     "name": "stdout",
     "output_type": "stream",
     "text": [
      "Olá, mundo!\n"
     ]
    }
   ],
   "source": [
    "print(soup.h1.text)"
   ]
  },
  {
   "cell_type": "code",
   "execution_count": 21,
   "metadata": {},
   "outputs": [],
   "source": [
    "url = \"https://guilhermeonrails.github.io/clima-tempo/\""
   ]
  },
  {
   "cell_type": "code",
   "execution_count": 22,
   "metadata": {},
   "outputs": [],
   "source": [
    "\n",
    "response = requests.get(url)"
   ]
  },
  {
   "cell_type": "code",
   "execution_count": 23,
   "metadata": {
    "colab": {
     "base_uri": "https://localhost:8080/"
    },
    "id": "G5cFk-mP-V0L",
    "outputId": "2f354e72-2a91-4213-cfce-a0313fc4f696"
   },
   "outputs": [],
   "source": [
    "pagina = BeautifulSoup(response.text, \"html.parser\")"
   ]
  },
  {
   "cell_type": "code",
   "execution_count": 24,
   "metadata": {},
   "outputs": [
    {
     "name": "stdout",
     "output_type": "stream",
     "text": [
      "<title>Painel de Clima</title>\n"
     ]
    }
   ],
   "source": [
    "\n",
    "print(pagina.title)"
   ]
  },
  {
   "cell_type": "code",
   "execution_count": 25,
   "metadata": {
    "colab": {
     "base_uri": "https://localhost:8080/"
    },
    "id": "l7N5FB2qAgwY",
    "outputId": "0c8fceca-01c9-416f-b9c4-ee78c0571e05"
   },
   "outputs": [
    {
     "name": "stdout",
     "output_type": "stream",
     "text": [
      "Painel de Clima\n"
     ]
    }
   ],
   "source": [
    "print(pagina.title.string)"
   ]
  },
  {
   "cell_type": "code",
   "execution_count": 26,
   "metadata": {},
   "outputs": [],
   "source": [
    "url = \"https://guilhermeonrails.github.io/clima-tempo/\""
   ]
  },
  {
   "cell_type": "code",
   "execution_count": 27,
   "metadata": {},
   "outputs": [],
   "source": [
    "response = requests.get(url)"
   ]
  },
  {
   "cell_type": "code",
   "execution_count": 28,
   "metadata": {
    "colab": {
     "base_uri": "https://localhost:8080/"
    },
    "id": "pDcVnRl2AntM",
    "outputId": "cfc85597-0985-4d57-f022-f673695a7414"
   },
   "outputs": [],
   "source": [
    "# chamar de soup\n",
    "soup = BeautifulSoup(response.text, \"html.parser\")"
   ]
  },
  {
   "cell_type": "code",
   "execution_count": 29,
   "metadata": {},
   "outputs": [
    {
     "data": {
      "text/plain": [
       "<!DOCTYPE html>\n",
       "\n",
       "<html lang=\"pt-BR\">\n",
       "<head>\n",
       "<meta charset=\"utf-8\"/>\n",
       "<meta content=\"width=device-width, initial-scale=1.0\" name=\"viewport\"/>\n",
       "<title>Painel de Clima</title>\n",
       "<script src=\"https://cdn.tailwindcss.com\"></script>\n",
       "</head>\n",
       "<body class=\"bg-gradient-to-br from-blue-200 to-white min-h-screen p-6 font-sans\">\n",
       "<h1 class=\"text-4xl font-bold text-center text-blue-800 mb-10\">🌎 Painel de Clima - Capitais do Mundo</h1>\n",
       "<div class=\"grid grid-cols-1 sm:grid-cols-2 md:grid-cols-3 gap-6 max-w-6xl mx-auto\">\n",
       "<div class=\"bg-white p-6 rounded-2xl shadow-xl border border-blue-100\">\n",
       "<h2 class=\"text-2xl font-semibold text-blue-700 mb-2\">São Paulo</h2>\n",
       "<p class=\"text-gray-600\">Temperatura: <span class=\"font-bold\" id=\"temperatura\">26°C</span></p>\n",
       "<p class=\"text-gray-600\">Clima: <span class=\"font-bold\" id=\"clima\">Parcialmente Nublado</span></p>\n",
       "<p class=\"text-gray-600\">Umidade: <span class=\"font-bold\" id=\"umidade\">55%</span></p>\n",
       "</div>\n",
       "<div class=\"bg-white p-6 rounded-2xl shadow-xl border border-blue-100\">\n",
       "<h2 class=\"text-2xl font-semibold text-blue-700 mb-2\">Brasília</h2>\n",
       "<p class=\"text-gray-600\">Temperatura: <span class=\"font-bold\" id=\"temperatura\">29°C</span></p>\n",
       "<p class=\"text-gray-600\">Clima: <span class=\"font-bold\" id=\"clima\">Ensolarado</span></p>\n",
       "<p class=\"text-gray-600\">Umidade: <span class=\"font-bold\" id=\"umidade\">40%</span></p>\n",
       "</div>\n",
       "<div class=\"bg-white p-6 rounded-2xl shadow-xl border border-blue-100\">\n",
       "<h2 class=\"text-2xl font-semibold text-blue-700 mb-2\">Rio de Janeiro</h2>\n",
       "<p class=\"text-gray-600\">Temperatura: <span class=\"font-bold\" id=\"temperatura\">31°C</span></p>\n",
       "<p class=\"text-gray-600\">Clima: <span class=\"font-bold\" id=\"clima\">Muito Quente</span></p>\n",
       "<p class=\"text-gray-600\">Umidade: <span class=\"font-bold\" id=\"umidade\">60%</span></p>\n",
       "</div>\n",
       "<div class=\"bg-white p-6 rounded-2xl shadow-xl border border-blue-100\">\n",
       "<h2 class=\"text-2xl font-semibold text-blue-700 mb-2\">Buenos Aires</h2>\n",
       "<p class=\"text-gray-600\">Temperatura: <span class=\"font-bold\" id=\"temperatura\">22°C</span></p>\n",
       "<p class=\"text-gray-600\">Clima: <span class=\"font-bold\" id=\"clima\">Chuva Leve</span></p>\n",
       "<p class=\"text-gray-600\">Umidade: <span class=\"font-bold\" id=\"umidade\">70%</span></p>\n",
       "</div>\n",
       "<div class=\"bg-white p-6 rounded-2xl shadow-xl border border-blue-100\">\n",
       "<h2 class=\"text-2xl font-semibold text-blue-700 mb-2\">Londres</h2>\n",
       "<p class=\"text-gray-600\">Temperatura: <span class=\"font-bold\" id=\"temperatura\">15°C</span></p>\n",
       "<p class=\"text-gray-600\">Clima: <span class=\"font-bold\" id=\"clima\">Nublado</span></p>\n",
       "<p class=\"text-gray-600\">Umidade: <span class=\"font-bold\" id=\"umidade\">80%</span></p>\n",
       "</div>\n",
       "<div class=\"bg-white p-6 rounded-2xl shadow-xl border border-blue-100\">\n",
       "<h2 class=\"text-2xl font-semibold text-blue-700 mb-2\">Paris</h2>\n",
       "<p class=\"text-gray-600\">Temperatura: <span class=\"font-bold\" id=\"temperatura\">17°C</span></p>\n",
       "<p class=\"text-gray-600\">Clima: <span class=\"font-bold\" id=\"clima\">Chuvisco</span></p>\n",
       "<p class=\"text-gray-600\">Umidade: <span class=\"font-bold\" id=\"umidade\">75%</span></p>\n",
       "</div>\n",
       "<div class=\"bg-white p-6 rounded-2xl shadow-xl border border-blue-100\">\n",
       "<h2 class=\"text-2xl font-semibold text-blue-700 mb-2\">Tóquio</h2>\n",
       "<p class=\"text-gray-600\">Temperatura: <span class=\"font-bold\" id=\"temperatura\">24°C</span></p>\n",
       "<p class=\"text-gray-600\">Clima: <span class=\"font-bold\" id=\"clima\">Ensolarado</span></p>\n",
       "<p class=\"text-gray-600\">Umidade: <span class=\"font-bold\" id=\"umidade\">65%</span></p>\n",
       "</div>\n",
       "<div class=\"bg-white p-6 rounded-2xl shadow-xl border border-blue-100\">\n",
       "<h2 class=\"text-2xl font-semibold text-blue-700 mb-2\">Nova York</h2>\n",
       "<p class=\"text-gray-600\">Temperatura: <span class=\"font-bold\" id=\"temperatura\">20°C</span></p>\n",
       "<p class=\"text-gray-600\">Clima: <span class=\"font-bold\" id=\"clima\">Trovoadas</span></p>\n",
       "<p class=\"text-gray-600\">Umidade: <span class=\"font-bold\" id=\"umidade\">67%</span></p>\n",
       "</div>\n",
       "<div class=\"bg-white p-6 rounded-2xl shadow-xl border border-blue-100\">\n",
       "<h2 class=\"text-2xl font-semibold text-blue-700 mb-2\">Cairo</h2>\n",
       "<p class=\"text-gray-600\">Temperatura: <span class=\"font-bold\" id=\"temperatura\">35°C</span></p>\n",
       "<p class=\"text-gray-600\">Clima: <span class=\"font-bold\" id=\"clima\">Seco</span></p>\n",
       "<p class=\"text-gray-600\">Umidade: <span class=\"font-bold\" id=\"umidade\">20%</span></p>\n",
       "</div>\n",
       "</div>\n",
       "</body>\n",
       "</html>"
      ]
     },
     "execution_count": 29,
     "metadata": {},
     "output_type": "execute_result"
    }
   ],
   "source": [
    "soup"
   ]
  },
  {
   "cell_type": "code",
   "execution_count": 30,
   "metadata": {
    "colab": {
     "base_uri": "https://localhost:8080/"
    },
    "id": "FCgC-9vNJxbf",
    "outputId": "18d58ae1-fd03-457b-fc6c-b7816d9247ec"
   },
   "outputs": [
    {
     "name": "stdout",
     "output_type": "stream",
     "text": [
      "\n",
      "\n",
      "\n",
      "\n",
      "\n",
      "Painel de Clima\n",
      "\n",
      "\n",
      "\n",
      "🌎 Painel de Clima - Capitais do Mundo\n",
      "\n",
      "\n",
      "São Paulo\n",
      "Temperatura: 26°C\n",
      "Clima: Parcialmente Nublado\n",
      "Umidade: 55%\n",
      "\n",
      "\n",
      "Brasília\n",
      "Temperatura: 29°C\n",
      "Clima: Ensolarado\n",
      "Umidade: 40%\n",
      "\n",
      "\n",
      "Rio de Janeiro\n",
      "Temperatura: 31°C\n",
      "Clima: Muito Quente\n",
      "Umidade: 60%\n",
      "\n",
      "\n",
      "Buenos Aires\n",
      "Temperatura: 22°C\n",
      "Clima: Chuva Leve\n",
      "Umidade: 70%\n",
      "\n",
      "\n",
      "Londres\n",
      "Temperatura: 15°C\n",
      "Clima: Nublado\n",
      "Umidade: 80%\n",
      "\n",
      "\n",
      "Paris\n",
      "Temperatura: 17°C\n",
      "Clima: Chuvisco\n",
      "Umidade: 75%\n",
      "\n",
      "\n",
      "Tóquio\n",
      "Temperatura: 24°C\n",
      "Clima: Ensolarado\n",
      "Umidade: 65%\n",
      "\n",
      "\n",
      "Nova York\n",
      "Temperatura: 20°C\n",
      "Clima: Trovoadas\n",
      "Umidade: 67%\n",
      "\n",
      "\n",
      "Cairo\n",
      "Temperatura: 35°C\n",
      "Clima: Seco\n",
      "Umidade: 20%\n",
      "\n",
      "\n",
      "\n",
      "\n",
      "\n"
     ]
    }
   ],
   "source": [
    "# Exibindo apenas o texto, sem as tags\n",
    "print(pagina.get_text())"
   ]
  },
  {
   "cell_type": "code",
   "execution_count": 31,
   "metadata": {},
   "outputs": [
    {
     "data": {
      "text/plain": [
       "[<h2 class=\"text-2xl font-semibold text-blue-700 mb-2\">São Paulo</h2>,\n",
       " <h2 class=\"text-2xl font-semibold text-blue-700 mb-2\">Brasília</h2>,\n",
       " <h2 class=\"text-2xl font-semibold text-blue-700 mb-2\">Rio de Janeiro</h2>,\n",
       " <h2 class=\"text-2xl font-semibold text-blue-700 mb-2\">Buenos Aires</h2>,\n",
       " <h2 class=\"text-2xl font-semibold text-blue-700 mb-2\">Londres</h2>,\n",
       " <h2 class=\"text-2xl font-semibold text-blue-700 mb-2\">Paris</h2>,\n",
       " <h2 class=\"text-2xl font-semibold text-blue-700 mb-2\">Tóquio</h2>,\n",
       " <h2 class=\"text-2xl font-semibold text-blue-700 mb-2\">Nova York</h2>,\n",
       " <h2 class=\"text-2xl font-semibold text-blue-700 mb-2\">Cairo</h2>]"
      ]
     },
     "execution_count": 31,
     "metadata": {},
     "output_type": "execute_result"
    }
   ],
   "source": [
    "# Encontrando todos os elementos <h2> na página\n",
    "h2_list = soup.find_all('h2')\n",
    "h2_list"
   ]
  },
  {
   "cell_type": "code",
   "execution_count": 32,
   "metadata": {
    "colab": {
     "base_uri": "https://localhost:8080/"
    },
    "id": "hQ3PPyvYKZVo",
    "outputId": "a53225ff-2f6a-41ce-8068-d2b220584738"
   },
   "outputs": [
    {
     "name": "stdout",
     "output_type": "stream",
     "text": [
      "São Paulo\n",
      "Brasília\n",
      "Rio de Janeiro\n",
      "Buenos Aires\n",
      "Londres\n",
      "Paris\n",
      "Tóquio\n",
      "Nova York\n",
      "Cairo\n"
     ]
    }
   ],
   "source": [
    "for h2 in h2_list:\n",
    "  print(h2.get_text())"
   ]
  },
  {
   "cell_type": "code",
   "execution_count": 33,
   "metadata": {
    "colab": {
     "base_uri": "https://localhost:8080/"
    },
    "id": "C-5aDq_uLfD-",
    "outputId": "783da0c6-0b1a-48be-dd23-54027314e08b"
   },
   "outputs": [
    {
     "data": {
      "text/plain": [
       "[<p class=\"text-gray-600\">Temperatura: <span class=\"font-bold\" id=\"temperatura\">26°C</span></p>,\n",
       " <p class=\"text-gray-600\">Clima: <span class=\"font-bold\" id=\"clima\">Parcialmente Nublado</span></p>,\n",
       " <p class=\"text-gray-600\">Umidade: <span class=\"font-bold\" id=\"umidade\">55%</span></p>,\n",
       " <p class=\"text-gray-600\">Temperatura: <span class=\"font-bold\" id=\"temperatura\">29°C</span></p>,\n",
       " <p class=\"text-gray-600\">Clima: <span class=\"font-bold\" id=\"clima\">Ensolarado</span></p>,\n",
       " <p class=\"text-gray-600\">Umidade: <span class=\"font-bold\" id=\"umidade\">40%</span></p>,\n",
       " <p class=\"text-gray-600\">Temperatura: <span class=\"font-bold\" id=\"temperatura\">31°C</span></p>,\n",
       " <p class=\"text-gray-600\">Clima: <span class=\"font-bold\" id=\"clima\">Muito Quente</span></p>,\n",
       " <p class=\"text-gray-600\">Umidade: <span class=\"font-bold\" id=\"umidade\">60%</span></p>,\n",
       " <p class=\"text-gray-600\">Temperatura: <span class=\"font-bold\" id=\"temperatura\">22°C</span></p>,\n",
       " <p class=\"text-gray-600\">Clima: <span class=\"font-bold\" id=\"clima\">Chuva Leve</span></p>,\n",
       " <p class=\"text-gray-600\">Umidade: <span class=\"font-bold\" id=\"umidade\">70%</span></p>,\n",
       " <p class=\"text-gray-600\">Temperatura: <span class=\"font-bold\" id=\"temperatura\">15°C</span></p>,\n",
       " <p class=\"text-gray-600\">Clima: <span class=\"font-bold\" id=\"clima\">Nublado</span></p>,\n",
       " <p class=\"text-gray-600\">Umidade: <span class=\"font-bold\" id=\"umidade\">80%</span></p>,\n",
       " <p class=\"text-gray-600\">Temperatura: <span class=\"font-bold\" id=\"temperatura\">17°C</span></p>,\n",
       " <p class=\"text-gray-600\">Clima: <span class=\"font-bold\" id=\"clima\">Chuvisco</span></p>,\n",
       " <p class=\"text-gray-600\">Umidade: <span class=\"font-bold\" id=\"umidade\">75%</span></p>,\n",
       " <p class=\"text-gray-600\">Temperatura: <span class=\"font-bold\" id=\"temperatura\">24°C</span></p>,\n",
       " <p class=\"text-gray-600\">Clima: <span class=\"font-bold\" id=\"clima\">Ensolarado</span></p>,\n",
       " <p class=\"text-gray-600\">Umidade: <span class=\"font-bold\" id=\"umidade\">65%</span></p>,\n",
       " <p class=\"text-gray-600\">Temperatura: <span class=\"font-bold\" id=\"temperatura\">20°C</span></p>,\n",
       " <p class=\"text-gray-600\">Clima: <span class=\"font-bold\" id=\"clima\">Trovoadas</span></p>,\n",
       " <p class=\"text-gray-600\">Umidade: <span class=\"font-bold\" id=\"umidade\">67%</span></p>,\n",
       " <p class=\"text-gray-600\">Temperatura: <span class=\"font-bold\" id=\"temperatura\">35°C</span></p>,\n",
       " <p class=\"text-gray-600\">Clima: <span class=\"font-bold\" id=\"clima\">Seco</span></p>,\n",
       " <p class=\"text-gray-600\">Umidade: <span class=\"font-bold\" id=\"umidade\">20%</span></p>]"
      ]
     },
     "execution_count": 33,
     "metadata": {},
     "output_type": "execute_result"
    }
   ],
   "source": [
    "# Exibindo todos os p\n",
    "soup.find_all('p')"
   ]
  },
  {
   "cell_type": "code",
   "execution_count": 34,
   "metadata": {
    "colab": {
     "base_uri": "https://localhost:8080/"
    },
    "id": "Pm1uIse2N1fW",
    "outputId": "d089a755-96ee-4f3f-db71-48d97ebb33d6"
   },
   "outputs": [
    {
     "name": "stdout",
     "output_type": "stream",
     "text": [
      "<span class=\"font-bold\" id=\"temperatura\">26°C</span>\n",
      "<span class=\"font-bold\" id=\"temperatura\">29°C</span>\n",
      "<span class=\"font-bold\" id=\"temperatura\">31°C</span>\n",
      "<span class=\"font-bold\" id=\"temperatura\">22°C</span>\n",
      "<span class=\"font-bold\" id=\"temperatura\">15°C</span>\n",
      "<span class=\"font-bold\" id=\"temperatura\">17°C</span>\n",
      "<span class=\"font-bold\" id=\"temperatura\">24°C</span>\n",
      "<span class=\"font-bold\" id=\"temperatura\">20°C</span>\n",
      "<span class=\"font-bold\" id=\"temperatura\">35°C</span>\n"
     ]
    }
   ],
   "source": [
    "temperaturas = soup.find_all(id=\"temperatura\")\n",
    "for t in temperaturas:\n",
    "    print(t)"
   ]
  },
  {
   "cell_type": "code",
   "execution_count": 35,
   "metadata": {
    "colab": {
     "base_uri": "https://localhost:8080/"
    },
    "id": "xCFI8CL9N5fx",
    "outputId": "e62b6052-868f-4739-b7fd-a58fa5951d57"
   },
   "outputs": [
    {
     "name": "stdout",
     "output_type": "stream",
     "text": [
      "26°C\n",
      "29°C\n",
      "31°C\n",
      "22°C\n",
      "15°C\n",
      "17°C\n",
      "24°C\n",
      "20°C\n",
      "35°C\n"
     ]
    }
   ],
   "source": [
    "temperaturas = soup.find_all(id=\"temperatura\")\n",
    "for t in temperaturas:\n",
    "    print(t.text)"
   ]
  },
  {
   "cell_type": "code",
   "execution_count": 36,
   "metadata": {
    "colab": {
     "base_uri": "https://localhost:8080/"
    },
    "id": "rkpcFz55N_ur",
    "outputId": "b28e4efe-6613-40a5-9f90-d53fb0db00a8"
   },
   "outputs": [
    {
     "name": "stdout",
     "output_type": "stream",
     "text": [
      "Parcialmente Nublado\n",
      "Ensolarado\n",
      "Muito Quente\n",
      "Chuva Leve\n",
      "Nublado\n",
      "Chuvisco\n",
      "Ensolarado\n",
      "Trovoadas\n",
      "Seco\n"
     ]
    }
   ],
   "source": [
    "temperaturas = soup.find_all(id=\"clima\")\n",
    "for t in temperaturas:\n",
    "    print(t.text)"
   ]
  },
  {
   "cell_type": "code",
   "execution_count": 37,
   "metadata": {
    "colab": {
     "base_uri": "https://localhost:8080/"
    },
    "id": "GNZmS3r_ODNx",
    "outputId": "3d727009-a796-4f3a-934b-339d88f36439"
   },
   "outputs": [
    {
     "name": "stdout",
     "output_type": "stream",
     "text": [
      "55%\n",
      "40%\n",
      "60%\n",
      "70%\n",
      "80%\n",
      "75%\n",
      "65%\n",
      "67%\n",
      "20%\n"
     ]
    }
   ],
   "source": [
    "temperaturas = soup.find_all(id=\"umidade\")\n",
    "for t in temperaturas:\n",
    "    print(t.text)"
   ]
  },
  {
   "cell_type": "markdown",
   "metadata": {
    "id": "5rnyFaBCIg9e"
   },
   "source": [
    "## 6. Extraindo e organizando os dados\n",
    "\n",
    "Criando um dataframe com os dados extraidos\n",
    "\n",
    "---\n"
   ]
  },
  {
   "cell_type": "code",
   "execution_count": 38,
   "metadata": {},
   "outputs": [],
   "source": [
    "url = \"https://guilhermeonrails.github.io/clima-tempo/\"\n",
    "response = requests.get(url)"
   ]
  },
  {
   "cell_type": "code",
   "execution_count": 39,
   "metadata": {},
   "outputs": [],
   "source": [
    "soup = BeautifulSoup(response.text, \"html.parser\")"
   ]
  },
  {
   "cell_type": "code",
   "execution_count": 40,
   "metadata": {},
   "outputs": [],
   "source": [
    "# Lista para armazenar os dados\n",
    "dados = []"
   ]
  },
  {
   "cell_type": "code",
   "execution_count": 41,
   "metadata": {},
   "outputs": [],
   "source": [
    "# Seleciona todos os cards de cidade\n",
    "cards = soup.find_all(\"div\", class_=\"bg-white\")"
   ]
  },
  {
   "cell_type": "code",
   "execution_count": 42,
   "metadata": {},
   "outputs": [],
   "source": [
    "for card in cards:\n",
    "    cidade = card.find(\"h2\").text.strip()\n",
    "    temperatura = card.find(id=\"temperatura\").text.strip()\n",
    "    clima = card.find(id=\"clima\").text.strip()\n",
    "    umidade = card.find(id=\"umidade\").text.strip()\n",
    "\n",
    "    dados.append({\n",
    "        \"cidade\": cidade,\n",
    "        \"temperatura\": temperatura,\n",
    "        \"clima\": clima,\n",
    "        \"umidade\": umidade\n",
    "    })\n",
    "\n",
    "# Cria o DataFrame\n",
    "df = pd.DataFrame(dados)"
   ]
  },
  {
   "cell_type": "code",
   "execution_count": 43,
   "metadata": {
    "colab": {
     "base_uri": "https://localhost:8080/",
     "height": 331
    },
    "id": "f4RtD7VsOCfi",
    "outputId": "762ae8a0-f873-45d2-b2ba-c97ec1a4d35a"
   },
   "outputs": [
    {
     "data": {
      "text/html": [
       "<div>\n",
       "<style scoped>\n",
       "    .dataframe tbody tr th:only-of-type {\n",
       "        vertical-align: middle;\n",
       "    }\n",
       "\n",
       "    .dataframe tbody tr th {\n",
       "        vertical-align: top;\n",
       "    }\n",
       "\n",
       "    .dataframe thead th {\n",
       "        text-align: right;\n",
       "    }\n",
       "</style>\n",
       "<table border=\"1\" class=\"dataframe\">\n",
       "  <thead>\n",
       "    <tr style=\"text-align: right;\">\n",
       "      <th></th>\n",
       "      <th>cidade</th>\n",
       "      <th>temperatura</th>\n",
       "      <th>clima</th>\n",
       "      <th>umidade</th>\n",
       "    </tr>\n",
       "  </thead>\n",
       "  <tbody>\n",
       "    <tr>\n",
       "      <th>0</th>\n",
       "      <td>São Paulo</td>\n",
       "      <td>26°C</td>\n",
       "      <td>Parcialmente Nublado</td>\n",
       "      <td>55%</td>\n",
       "    </tr>\n",
       "    <tr>\n",
       "      <th>1</th>\n",
       "      <td>Brasília</td>\n",
       "      <td>29°C</td>\n",
       "      <td>Ensolarado</td>\n",
       "      <td>40%</td>\n",
       "    </tr>\n",
       "    <tr>\n",
       "      <th>2</th>\n",
       "      <td>Rio de Janeiro</td>\n",
       "      <td>31°C</td>\n",
       "      <td>Muito Quente</td>\n",
       "      <td>60%</td>\n",
       "    </tr>\n",
       "    <tr>\n",
       "      <th>3</th>\n",
       "      <td>Buenos Aires</td>\n",
       "      <td>22°C</td>\n",
       "      <td>Chuva Leve</td>\n",
       "      <td>70%</td>\n",
       "    </tr>\n",
       "    <tr>\n",
       "      <th>4</th>\n",
       "      <td>Londres</td>\n",
       "      <td>15°C</td>\n",
       "      <td>Nublado</td>\n",
       "      <td>80%</td>\n",
       "    </tr>\n",
       "    <tr>\n",
       "      <th>5</th>\n",
       "      <td>Paris</td>\n",
       "      <td>17°C</td>\n",
       "      <td>Chuvisco</td>\n",
       "      <td>75%</td>\n",
       "    </tr>\n",
       "    <tr>\n",
       "      <th>6</th>\n",
       "      <td>Tóquio</td>\n",
       "      <td>24°C</td>\n",
       "      <td>Ensolarado</td>\n",
       "      <td>65%</td>\n",
       "    </tr>\n",
       "    <tr>\n",
       "      <th>7</th>\n",
       "      <td>Nova York</td>\n",
       "      <td>20°C</td>\n",
       "      <td>Trovoadas</td>\n",
       "      <td>67%</td>\n",
       "    </tr>\n",
       "    <tr>\n",
       "      <th>8</th>\n",
       "      <td>Cairo</td>\n",
       "      <td>35°C</td>\n",
       "      <td>Seco</td>\n",
       "      <td>20%</td>\n",
       "    </tr>\n",
       "  </tbody>\n",
       "</table>\n",
       "</div>"
      ],
      "text/plain": [
       "           cidade temperatura                 clima umidade\n",
       "0       São Paulo        26°C  Parcialmente Nublado     55%\n",
       "1        Brasília        29°C            Ensolarado     40%\n",
       "2  Rio de Janeiro        31°C          Muito Quente     60%\n",
       "3    Buenos Aires        22°C            Chuva Leve     70%\n",
       "4         Londres        15°C               Nublado     80%\n",
       "5           Paris        17°C              Chuvisco     75%\n",
       "6          Tóquio        24°C            Ensolarado     65%\n",
       "7       Nova York        20°C             Trovoadas     67%\n",
       "8           Cairo        35°C                  Seco     20%"
      ]
     },
     "execution_count": 43,
     "metadata": {},
     "output_type": "execute_result"
    }
   ],
   "source": [
    "df"
   ]
  },
  {
   "cell_type": "code",
   "execution_count": 44,
   "metadata": {
    "colab": {
     "base_uri": "https://localhost:8080/"
    },
    "id": "-RRm06GzBlPn",
    "outputId": "ff52326e-7621-4d72-b323-f2ca55eb6724"
   },
   "outputs": [
    {
     "name": "stdout",
     "output_type": "stream",
     "text": [
      "Arquivo CSV criado com sucesso!\n"
     ]
    }
   ],
   "source": [
    "# Salvar o DataFrame em um arquivo CSV\n",
    "df.to_csv(\"dados_clima.csv\", index=False, encoding=\"utf-8\")\n",
    "print(\"Arquivo CSV criado com sucesso!\")"
   ]
  },
  {
   "cell_type": "code",
   "execution_count": 45,
   "metadata": {
    "colab": {
     "base_uri": "https://localhost:8080/",
     "height": 331
    },
    "id": "bTz_jq2UO_XH",
    "outputId": "1e0b85be-6037-48f1-bc46-1579bcf0d79b"
   },
   "outputs": [
    {
     "data": {
      "text/html": [
       "<div>\n",
       "<style scoped>\n",
       "    .dataframe tbody tr th:only-of-type {\n",
       "        vertical-align: middle;\n",
       "    }\n",
       "\n",
       "    .dataframe tbody tr th {\n",
       "        vertical-align: top;\n",
       "    }\n",
       "\n",
       "    .dataframe thead th {\n",
       "        text-align: right;\n",
       "    }\n",
       "</style>\n",
       "<table border=\"1\" class=\"dataframe\">\n",
       "  <thead>\n",
       "    <tr style=\"text-align: right;\">\n",
       "      <th></th>\n",
       "      <th>cidade</th>\n",
       "      <th>temperatura</th>\n",
       "      <th>clima</th>\n",
       "      <th>umidade</th>\n",
       "    </tr>\n",
       "  </thead>\n",
       "  <tbody>\n",
       "    <tr>\n",
       "      <th>4</th>\n",
       "      <td>Londres</td>\n",
       "      <td>15°C</td>\n",
       "      <td>Nublado</td>\n",
       "      <td>80%</td>\n",
       "    </tr>\n",
       "    <tr>\n",
       "      <th>5</th>\n",
       "      <td>Paris</td>\n",
       "      <td>17°C</td>\n",
       "      <td>Chuvisco</td>\n",
       "      <td>75%</td>\n",
       "    </tr>\n",
       "    <tr>\n",
       "      <th>7</th>\n",
       "      <td>Nova York</td>\n",
       "      <td>20°C</td>\n",
       "      <td>Trovoadas</td>\n",
       "      <td>67%</td>\n",
       "    </tr>\n",
       "    <tr>\n",
       "      <th>3</th>\n",
       "      <td>Buenos Aires</td>\n",
       "      <td>22°C</td>\n",
       "      <td>Chuva Leve</td>\n",
       "      <td>70%</td>\n",
       "    </tr>\n",
       "    <tr>\n",
       "      <th>6</th>\n",
       "      <td>Tóquio</td>\n",
       "      <td>24°C</td>\n",
       "      <td>Ensolarado</td>\n",
       "      <td>65%</td>\n",
       "    </tr>\n",
       "    <tr>\n",
       "      <th>0</th>\n",
       "      <td>São Paulo</td>\n",
       "      <td>26°C</td>\n",
       "      <td>Parcialmente Nublado</td>\n",
       "      <td>55%</td>\n",
       "    </tr>\n",
       "    <tr>\n",
       "      <th>1</th>\n",
       "      <td>Brasília</td>\n",
       "      <td>29°C</td>\n",
       "      <td>Ensolarado</td>\n",
       "      <td>40%</td>\n",
       "    </tr>\n",
       "    <tr>\n",
       "      <th>2</th>\n",
       "      <td>Rio de Janeiro</td>\n",
       "      <td>31°C</td>\n",
       "      <td>Muito Quente</td>\n",
       "      <td>60%</td>\n",
       "    </tr>\n",
       "    <tr>\n",
       "      <th>8</th>\n",
       "      <td>Cairo</td>\n",
       "      <td>35°C</td>\n",
       "      <td>Seco</td>\n",
       "      <td>20%</td>\n",
       "    </tr>\n",
       "  </tbody>\n",
       "</table>\n",
       "</div>"
      ],
      "text/plain": [
       "           cidade temperatura                 clima umidade\n",
       "4         Londres        15°C               Nublado     80%\n",
       "5           Paris        17°C              Chuvisco     75%\n",
       "7       Nova York        20°C             Trovoadas     67%\n",
       "3    Buenos Aires        22°C            Chuva Leve     70%\n",
       "6          Tóquio        24°C            Ensolarado     65%\n",
       "0       São Paulo        26°C  Parcialmente Nublado     55%\n",
       "1        Brasília        29°C            Ensolarado     40%\n",
       "2  Rio de Janeiro        31°C          Muito Quente     60%\n",
       "8           Cairo        35°C                  Seco     20%"
      ]
     },
     "execution_count": 45,
     "metadata": {},
     "output_type": "execute_result"
    }
   ],
   "source": [
    "df.sort_values(by='temperatura')"
   ]
  },
  {
   "cell_type": "code",
   "execution_count": 46,
   "metadata": {
    "colab": {
     "base_uri": "https://localhost:8080/",
     "height": 331
    },
    "id": "XpuR1g78P4Se",
    "outputId": "ffb0522e-39f4-4818-ab72-4fc36aec2e80"
   },
   "outputs": [
    {
     "data": {
      "text/html": [
       "<div>\n",
       "<style scoped>\n",
       "    .dataframe tbody tr th:only-of-type {\n",
       "        vertical-align: middle;\n",
       "    }\n",
       "\n",
       "    .dataframe tbody tr th {\n",
       "        vertical-align: top;\n",
       "    }\n",
       "\n",
       "    .dataframe thead th {\n",
       "        text-align: right;\n",
       "    }\n",
       "</style>\n",
       "<table border=\"1\" class=\"dataframe\">\n",
       "  <thead>\n",
       "    <tr style=\"text-align: right;\">\n",
       "      <th></th>\n",
       "      <th>cidade</th>\n",
       "      <th>temperatura</th>\n",
       "      <th>clima</th>\n",
       "      <th>umidade</th>\n",
       "    </tr>\n",
       "  </thead>\n",
       "  <tbody>\n",
       "    <tr>\n",
       "      <th>0</th>\n",
       "      <td>São Paulo</td>\n",
       "      <td>26.0</td>\n",
       "      <td>Parcialmente Nublado</td>\n",
       "      <td>55%</td>\n",
       "    </tr>\n",
       "    <tr>\n",
       "      <th>1</th>\n",
       "      <td>Brasília</td>\n",
       "      <td>29.0</td>\n",
       "      <td>Ensolarado</td>\n",
       "      <td>40%</td>\n",
       "    </tr>\n",
       "    <tr>\n",
       "      <th>2</th>\n",
       "      <td>Rio de Janeiro</td>\n",
       "      <td>31.0</td>\n",
       "      <td>Muito Quente</td>\n",
       "      <td>60%</td>\n",
       "    </tr>\n",
       "    <tr>\n",
       "      <th>3</th>\n",
       "      <td>Buenos Aires</td>\n",
       "      <td>22.0</td>\n",
       "      <td>Chuva Leve</td>\n",
       "      <td>70%</td>\n",
       "    </tr>\n",
       "    <tr>\n",
       "      <th>4</th>\n",
       "      <td>Londres</td>\n",
       "      <td>15.0</td>\n",
       "      <td>Nublado</td>\n",
       "      <td>80%</td>\n",
       "    </tr>\n",
       "    <tr>\n",
       "      <th>5</th>\n",
       "      <td>Paris</td>\n",
       "      <td>17.0</td>\n",
       "      <td>Chuvisco</td>\n",
       "      <td>75%</td>\n",
       "    </tr>\n",
       "    <tr>\n",
       "      <th>6</th>\n",
       "      <td>Tóquio</td>\n",
       "      <td>24.0</td>\n",
       "      <td>Ensolarado</td>\n",
       "      <td>65%</td>\n",
       "    </tr>\n",
       "    <tr>\n",
       "      <th>7</th>\n",
       "      <td>Nova York</td>\n",
       "      <td>20.0</td>\n",
       "      <td>Trovoadas</td>\n",
       "      <td>67%</td>\n",
       "    </tr>\n",
       "    <tr>\n",
       "      <th>8</th>\n",
       "      <td>Cairo</td>\n",
       "      <td>35.0</td>\n",
       "      <td>Seco</td>\n",
       "      <td>20%</td>\n",
       "    </tr>\n",
       "  </tbody>\n",
       "</table>\n",
       "</div>"
      ],
      "text/plain": [
       "           cidade  temperatura                 clima umidade\n",
       "0       São Paulo         26.0  Parcialmente Nublado     55%\n",
       "1        Brasília         29.0            Ensolarado     40%\n",
       "2  Rio de Janeiro         31.0          Muito Quente     60%\n",
       "3    Buenos Aires         22.0            Chuva Leve     70%\n",
       "4         Londres         15.0               Nublado     80%\n",
       "5           Paris         17.0              Chuvisco     75%\n",
       "6          Tóquio         24.0            Ensolarado     65%\n",
       "7       Nova York         20.0             Trovoadas     67%\n",
       "8           Cairo         35.0                  Seco     20%"
      ]
     },
     "execution_count": 46,
     "metadata": {},
     "output_type": "execute_result"
    }
   ],
   "source": [
    "# Convertendo a coluna 'temperatura' para valores numéricos (removendo '°C')\n",
    "df['temperatura'] = df['temperatura'].str.replace('°C', '').astype(float)\n",
    "df"
   ]
  },
  {
   "cell_type": "code",
   "execution_count": 47,
   "metadata": {
    "colab": {
     "base_uri": "https://localhost:8080/",
     "height": 542
    },
    "id": "HiwGpqhAQ-p1",
    "outputId": "50c8c5c1-6ce6-4308-f081-a1c471b0bf92"
   },
   "outputs": [
    {
     "data": {
      "application/vnd.plotly.v1+json": {
       "config": {
        "plotlyServerURL": "https://plot.ly"
       },
       "data": [
        {
         "hovertemplate": "Cidade=%{x}<br>Temperatura (°C)=%{marker.color}<extra></extra>",
         "legendgroup": "",
         "marker": {
          "color": {
           "bdata": "AAAAAAAAOkAAAAAAAAA9QAAAAAAAAD9AAAAAAAAANkAAAAAAAAAuQAAAAAAAADFAAAAAAAAAOEAAAAAAAAA0QAAAAAAAgEFA",
           "dtype": "f8"
          },
          "coloraxis": "coloraxis",
          "pattern": {
           "shape": ""
          }
         },
         "name": "",
         "orientation": "v",
         "showlegend": false,
         "textposition": "auto",
         "type": "bar",
         "x": [
          "São Paulo",
          "Brasília",
          "Rio de Janeiro",
          "Buenos Aires",
          "Londres",
          "Paris",
          "Tóquio",
          "Nova York",
          "Cairo"
         ],
         "xaxis": "x",
         "y": {
          "bdata": "AAAAAAAAOkAAAAAAAAA9QAAAAAAAAD9AAAAAAAAANkAAAAAAAAAuQAAAAAAAADFAAAAAAAAAOEAAAAAAAAA0QAAAAAAAgEFA",
          "dtype": "f8"
         },
         "yaxis": "y"
        }
       ],
       "layout": {
        "barmode": "relative",
        "coloraxis": {
         "colorbar": {
          "title": {
           "text": "Temperatura (°C)"
          }
         },
         "colorscale": [
          [
           0,
           "rgb(0,0,255)"
          ],
          [
           1,
           "rgb(255,0,0)"
          ]
         ]
        },
        "legend": {
         "tracegroupgap": 0
        },
        "template": {
         "data": {
          "bar": [
           {
            "error_x": {
             "color": "#2a3f5f"
            },
            "error_y": {
             "color": "#2a3f5f"
            },
            "marker": {
             "line": {
              "color": "#E5ECF6",
              "width": 0.5
             },
             "pattern": {
              "fillmode": "overlay",
              "size": 10,
              "solidity": 0.2
             }
            },
            "type": "bar"
           }
          ],
          "barpolar": [
           {
            "marker": {
             "line": {
              "color": "#E5ECF6",
              "width": 0.5
             },
             "pattern": {
              "fillmode": "overlay",
              "size": 10,
              "solidity": 0.2
             }
            },
            "type": "barpolar"
           }
          ],
          "carpet": [
           {
            "aaxis": {
             "endlinecolor": "#2a3f5f",
             "gridcolor": "white",
             "linecolor": "white",
             "minorgridcolor": "white",
             "startlinecolor": "#2a3f5f"
            },
            "baxis": {
             "endlinecolor": "#2a3f5f",
             "gridcolor": "white",
             "linecolor": "white",
             "minorgridcolor": "white",
             "startlinecolor": "#2a3f5f"
            },
            "type": "carpet"
           }
          ],
          "choropleth": [
           {
            "colorbar": {
             "outlinewidth": 0,
             "ticks": ""
            },
            "type": "choropleth"
           }
          ],
          "contour": [
           {
            "colorbar": {
             "outlinewidth": 0,
             "ticks": ""
            },
            "colorscale": [
             [
              0,
              "#0d0887"
             ],
             [
              0.1111111111111111,
              "#46039f"
             ],
             [
              0.2222222222222222,
              "#7201a8"
             ],
             [
              0.3333333333333333,
              "#9c179e"
             ],
             [
              0.4444444444444444,
              "#bd3786"
             ],
             [
              0.5555555555555556,
              "#d8576b"
             ],
             [
              0.6666666666666666,
              "#ed7953"
             ],
             [
              0.7777777777777778,
              "#fb9f3a"
             ],
             [
              0.8888888888888888,
              "#fdca26"
             ],
             [
              1,
              "#f0f921"
             ]
            ],
            "type": "contour"
           }
          ],
          "contourcarpet": [
           {
            "colorbar": {
             "outlinewidth": 0,
             "ticks": ""
            },
            "type": "contourcarpet"
           }
          ],
          "heatmap": [
           {
            "colorbar": {
             "outlinewidth": 0,
             "ticks": ""
            },
            "colorscale": [
             [
              0,
              "#0d0887"
             ],
             [
              0.1111111111111111,
              "#46039f"
             ],
             [
              0.2222222222222222,
              "#7201a8"
             ],
             [
              0.3333333333333333,
              "#9c179e"
             ],
             [
              0.4444444444444444,
              "#bd3786"
             ],
             [
              0.5555555555555556,
              "#d8576b"
             ],
             [
              0.6666666666666666,
              "#ed7953"
             ],
             [
              0.7777777777777778,
              "#fb9f3a"
             ],
             [
              0.8888888888888888,
              "#fdca26"
             ],
             [
              1,
              "#f0f921"
             ]
            ],
            "type": "heatmap"
           }
          ],
          "histogram": [
           {
            "marker": {
             "pattern": {
              "fillmode": "overlay",
              "size": 10,
              "solidity": 0.2
             }
            },
            "type": "histogram"
           }
          ],
          "histogram2d": [
           {
            "colorbar": {
             "outlinewidth": 0,
             "ticks": ""
            },
            "colorscale": [
             [
              0,
              "#0d0887"
             ],
             [
              0.1111111111111111,
              "#46039f"
             ],
             [
              0.2222222222222222,
              "#7201a8"
             ],
             [
              0.3333333333333333,
              "#9c179e"
             ],
             [
              0.4444444444444444,
              "#bd3786"
             ],
             [
              0.5555555555555556,
              "#d8576b"
             ],
             [
              0.6666666666666666,
              "#ed7953"
             ],
             [
              0.7777777777777778,
              "#fb9f3a"
             ],
             [
              0.8888888888888888,
              "#fdca26"
             ],
             [
              1,
              "#f0f921"
             ]
            ],
            "type": "histogram2d"
           }
          ],
          "histogram2dcontour": [
           {
            "colorbar": {
             "outlinewidth": 0,
             "ticks": ""
            },
            "colorscale": [
             [
              0,
              "#0d0887"
             ],
             [
              0.1111111111111111,
              "#46039f"
             ],
             [
              0.2222222222222222,
              "#7201a8"
             ],
             [
              0.3333333333333333,
              "#9c179e"
             ],
             [
              0.4444444444444444,
              "#bd3786"
             ],
             [
              0.5555555555555556,
              "#d8576b"
             ],
             [
              0.6666666666666666,
              "#ed7953"
             ],
             [
              0.7777777777777778,
              "#fb9f3a"
             ],
             [
              0.8888888888888888,
              "#fdca26"
             ],
             [
              1,
              "#f0f921"
             ]
            ],
            "type": "histogram2dcontour"
           }
          ],
          "mesh3d": [
           {
            "colorbar": {
             "outlinewidth": 0,
             "ticks": ""
            },
            "type": "mesh3d"
           }
          ],
          "parcoords": [
           {
            "line": {
             "colorbar": {
              "outlinewidth": 0,
              "ticks": ""
             }
            },
            "type": "parcoords"
           }
          ],
          "pie": [
           {
            "automargin": true,
            "type": "pie"
           }
          ],
          "scatter": [
           {
            "fillpattern": {
             "fillmode": "overlay",
             "size": 10,
             "solidity": 0.2
            },
            "type": "scatter"
           }
          ],
          "scatter3d": [
           {
            "line": {
             "colorbar": {
              "outlinewidth": 0,
              "ticks": ""
             }
            },
            "marker": {
             "colorbar": {
              "outlinewidth": 0,
              "ticks": ""
             }
            },
            "type": "scatter3d"
           }
          ],
          "scattercarpet": [
           {
            "marker": {
             "colorbar": {
              "outlinewidth": 0,
              "ticks": ""
             }
            },
            "type": "scattercarpet"
           }
          ],
          "scattergeo": [
           {
            "marker": {
             "colorbar": {
              "outlinewidth": 0,
              "ticks": ""
             }
            },
            "type": "scattergeo"
           }
          ],
          "scattergl": [
           {
            "marker": {
             "colorbar": {
              "outlinewidth": 0,
              "ticks": ""
             }
            },
            "type": "scattergl"
           }
          ],
          "scattermap": [
           {
            "marker": {
             "colorbar": {
              "outlinewidth": 0,
              "ticks": ""
             }
            },
            "type": "scattermap"
           }
          ],
          "scattermapbox": [
           {
            "marker": {
             "colorbar": {
              "outlinewidth": 0,
              "ticks": ""
             }
            },
            "type": "scattermapbox"
           }
          ],
          "scatterpolar": [
           {
            "marker": {
             "colorbar": {
              "outlinewidth": 0,
              "ticks": ""
             }
            },
            "type": "scatterpolar"
           }
          ],
          "scatterpolargl": [
           {
            "marker": {
             "colorbar": {
              "outlinewidth": 0,
              "ticks": ""
             }
            },
            "type": "scatterpolargl"
           }
          ],
          "scatterternary": [
           {
            "marker": {
             "colorbar": {
              "outlinewidth": 0,
              "ticks": ""
             }
            },
            "type": "scatterternary"
           }
          ],
          "surface": [
           {
            "colorbar": {
             "outlinewidth": 0,
             "ticks": ""
            },
            "colorscale": [
             [
              0,
              "#0d0887"
             ],
             [
              0.1111111111111111,
              "#46039f"
             ],
             [
              0.2222222222222222,
              "#7201a8"
             ],
             [
              0.3333333333333333,
              "#9c179e"
             ],
             [
              0.4444444444444444,
              "#bd3786"
             ],
             [
              0.5555555555555556,
              "#d8576b"
             ],
             [
              0.6666666666666666,
              "#ed7953"
             ],
             [
              0.7777777777777778,
              "#fb9f3a"
             ],
             [
              0.8888888888888888,
              "#fdca26"
             ],
             [
              1,
              "#f0f921"
             ]
            ],
            "type": "surface"
           }
          ],
          "table": [
           {
            "cells": {
             "fill": {
              "color": "#EBF0F8"
             },
             "line": {
              "color": "white"
             }
            },
            "header": {
             "fill": {
              "color": "#C8D4E3"
             },
             "line": {
              "color": "white"
             }
            },
            "type": "table"
           }
          ]
         },
         "layout": {
          "annotationdefaults": {
           "arrowcolor": "#2a3f5f",
           "arrowhead": 0,
           "arrowwidth": 1
          },
          "autotypenumbers": "strict",
          "coloraxis": {
           "colorbar": {
            "outlinewidth": 0,
            "ticks": ""
           }
          },
          "colorscale": {
           "diverging": [
            [
             0,
             "#8e0152"
            ],
            [
             0.1,
             "#c51b7d"
            ],
            [
             0.2,
             "#de77ae"
            ],
            [
             0.3,
             "#f1b6da"
            ],
            [
             0.4,
             "#fde0ef"
            ],
            [
             0.5,
             "#f7f7f7"
            ],
            [
             0.6,
             "#e6f5d0"
            ],
            [
             0.7,
             "#b8e186"
            ],
            [
             0.8,
             "#7fbc41"
            ],
            [
             0.9,
             "#4d9221"
            ],
            [
             1,
             "#276419"
            ]
           ],
           "sequential": [
            [
             0,
             "#0d0887"
            ],
            [
             0.1111111111111111,
             "#46039f"
            ],
            [
             0.2222222222222222,
             "#7201a8"
            ],
            [
             0.3333333333333333,
             "#9c179e"
            ],
            [
             0.4444444444444444,
             "#bd3786"
            ],
            [
             0.5555555555555556,
             "#d8576b"
            ],
            [
             0.6666666666666666,
             "#ed7953"
            ],
            [
             0.7777777777777778,
             "#fb9f3a"
            ],
            [
             0.8888888888888888,
             "#fdca26"
            ],
            [
             1,
             "#f0f921"
            ]
           ],
           "sequentialminus": [
            [
             0,
             "#0d0887"
            ],
            [
             0.1111111111111111,
             "#46039f"
            ],
            [
             0.2222222222222222,
             "#7201a8"
            ],
            [
             0.3333333333333333,
             "#9c179e"
            ],
            [
             0.4444444444444444,
             "#bd3786"
            ],
            [
             0.5555555555555556,
             "#d8576b"
            ],
            [
             0.6666666666666666,
             "#ed7953"
            ],
            [
             0.7777777777777778,
             "#fb9f3a"
            ],
            [
             0.8888888888888888,
             "#fdca26"
            ],
            [
             1,
             "#f0f921"
            ]
           ]
          },
          "colorway": [
           "#636efa",
           "#EF553B",
           "#00cc96",
           "#ab63fa",
           "#FFA15A",
           "#19d3f3",
           "#FF6692",
           "#B6E880",
           "#FF97FF",
           "#FECB52"
          ],
          "font": {
           "color": "#2a3f5f"
          },
          "geo": {
           "bgcolor": "white",
           "lakecolor": "white",
           "landcolor": "#E5ECF6",
           "showlakes": true,
           "showland": true,
           "subunitcolor": "white"
          },
          "hoverlabel": {
           "align": "left"
          },
          "hovermode": "closest",
          "mapbox": {
           "style": "light"
          },
          "paper_bgcolor": "white",
          "plot_bgcolor": "#E5ECF6",
          "polar": {
           "angularaxis": {
            "gridcolor": "white",
            "linecolor": "white",
            "ticks": ""
           },
           "bgcolor": "#E5ECF6",
           "radialaxis": {
            "gridcolor": "white",
            "linecolor": "white",
            "ticks": ""
           }
          },
          "scene": {
           "xaxis": {
            "backgroundcolor": "#E5ECF6",
            "gridcolor": "white",
            "gridwidth": 2,
            "linecolor": "white",
            "showbackground": true,
            "ticks": "",
            "zerolinecolor": "white"
           },
           "yaxis": {
            "backgroundcolor": "#E5ECF6",
            "gridcolor": "white",
            "gridwidth": 2,
            "linecolor": "white",
            "showbackground": true,
            "ticks": "",
            "zerolinecolor": "white"
           },
           "zaxis": {
            "backgroundcolor": "#E5ECF6",
            "gridcolor": "white",
            "gridwidth": 2,
            "linecolor": "white",
            "showbackground": true,
            "ticks": "",
            "zerolinecolor": "white"
           }
          },
          "shapedefaults": {
           "line": {
            "color": "#2a3f5f"
           }
          },
          "ternary": {
           "aaxis": {
            "gridcolor": "white",
            "linecolor": "white",
            "ticks": ""
           },
           "baxis": {
            "gridcolor": "white",
            "linecolor": "white",
            "ticks": ""
           },
           "bgcolor": "#E5ECF6",
           "caxis": {
            "gridcolor": "white",
            "linecolor": "white",
            "ticks": ""
           }
          },
          "title": {
           "x": 0.05
          },
          "xaxis": {
           "automargin": true,
           "gridcolor": "white",
           "linecolor": "white",
           "ticks": "",
           "title": {
            "standoff": 15
           },
           "zerolinecolor": "white",
           "zerolinewidth": 2
          },
          "yaxis": {
           "automargin": true,
           "gridcolor": "white",
           "linecolor": "white",
           "ticks": "",
           "title": {
            "standoff": 15
           },
           "zerolinecolor": "white",
           "zerolinewidth": 2
          }
         }
        },
        "title": {
         "text": "Temperatura por Cidade"
        },
        "xaxis": {
         "anchor": "y",
         "domain": [
          0,
          1
         ],
         "title": {
          "text": "Cidade"
         }
        },
        "yaxis": {
         "anchor": "x",
         "domain": [
          0,
          1
         ],
         "title": {
          "text": "Temperatura (°C)"
         }
        }
       }
      }
     },
     "metadata": {},
     "output_type": "display_data"
    }
   ],
   "source": [
    "import plotly.express as px\n",
    "\n",
    "# Gráfico de barras: Temperatura por cidade\n",
    "fig1 = px.bar(df, x='cidade', y='temperatura',\n",
    "              title='Temperatura por Cidade',\n",
    "              labels={'cidade': 'Cidade', 'temperatura': 'Temperatura (°C)'},\n",
    "              color='temperatura',\n",
    "              color_continuous_scale='Bluered')\n",
    "fig1.show()"
   ]
  },
  {
   "cell_type": "markdown",
   "metadata": {
    "id": "gcjxEqdLR8uR"
   },
   "source": [
    "# Geonames e IDH\n",
    "\n",
    "Geonames é uma base de dados que contém informações sobre paises e cidades do mundo.\n",
    "\n",
    "[geonames](https://www.geonames.org/countries/)\n",
    "\n",
    "---"
   ]
  },
  {
   "cell_type": "code",
   "execution_count": 79,
   "metadata": {
    "colab": {
     "base_uri": "https://localhost:8080/"
    },
    "id": "bVuz9f6ISAH8",
    "outputId": "6d48b3f7-60df-431b-a795-a3f0fd5554dd"
   },
   "outputs": [],
   "source": [
    "from bs4 import BeautifulSoup\n",
    "import pandas as pd\n",
    "\n",
    "url = \"https://www.geonames.org/countries/\"\n",
    "response = requests.get(url)\n",
    "\n",
    "soup = BeautifulSoup(response.text, \"html.parser\")\n",
    "#soup"
   ]
  },
  {
   "cell_type": "code",
   "execution_count": 80,
   "metadata": {
    "colab": {
     "base_uri": "https://localhost:8080/"
    },
    "id": "JzQUYkD3S4UW",
    "outputId": "3ac946cd-1d49-40cd-f2b9-6bca0c948b87"
   },
   "outputs": [],
   "source": [
    "# Encontrar a tabela que contém os países\n",
    "table = soup.find(\"table\", {\"class\": \"restable\"})\n",
    "#table"
   ]
  },
  {
   "cell_type": "code",
   "execution_count": 82,
   "metadata": {
    "colab": {
     "base_uri": "https://localhost:8080/"
    },
    "id": "89E5oSeaUfx-",
    "outputId": "fa55ae0a-77af-4a25-b1ac-3c5945f1c02f"
   },
   "outputs": [],
   "source": [
    "# Encontra a tabela principal\n",
    "table = soup.find(\"table\", id=\"countries\")\n",
    "#table "
   ]
  },
  {
   "cell_type": "code",
   "execution_count": 51,
   "metadata": {
    "colab": {
     "base_uri": "https://localhost:8080/",
     "height": 423
    },
    "id": "u7TUYK_6VbbN",
    "outputId": "e9c5792f-c784-4368-f08d-c78dfaf749ea"
   },
   "outputs": [
    {
     "data": {
      "text/html": [
       "<div>\n",
       "<style scoped>\n",
       "    .dataframe tbody tr th:only-of-type {\n",
       "        vertical-align: middle;\n",
       "    }\n",
       "\n",
       "    .dataframe tbody tr th {\n",
       "        vertical-align: top;\n",
       "    }\n",
       "\n",
       "    .dataframe thead th {\n",
       "        text-align: right;\n",
       "    }\n",
       "</style>\n",
       "<table border=\"1\" class=\"dataframe\">\n",
       "  <thead>\n",
       "    <tr style=\"text-align: right;\">\n",
       "      <th></th>\n",
       "      <th>pais</th>\n",
       "    </tr>\n",
       "  </thead>\n",
       "  <tbody>\n",
       "    <tr>\n",
       "      <th>0</th>\n",
       "      <td>Andorra</td>\n",
       "    </tr>\n",
       "    <tr>\n",
       "      <th>1</th>\n",
       "      <td>United Arab Emirates</td>\n",
       "    </tr>\n",
       "    <tr>\n",
       "      <th>2</th>\n",
       "      <td>Afghanistan</td>\n",
       "    </tr>\n",
       "    <tr>\n",
       "      <th>3</th>\n",
       "      <td>Antigua and Barbuda</td>\n",
       "    </tr>\n",
       "    <tr>\n",
       "      <th>4</th>\n",
       "      <td>Anguilla</td>\n",
       "    </tr>\n",
       "    <tr>\n",
       "      <th>...</th>\n",
       "      <td>...</td>\n",
       "    </tr>\n",
       "    <tr>\n",
       "      <th>245</th>\n",
       "      <td>Yemen</td>\n",
       "    </tr>\n",
       "    <tr>\n",
       "      <th>246</th>\n",
       "      <td>Mayotte</td>\n",
       "    </tr>\n",
       "    <tr>\n",
       "      <th>247</th>\n",
       "      <td>South Africa</td>\n",
       "    </tr>\n",
       "    <tr>\n",
       "      <th>248</th>\n",
       "      <td>Zambia</td>\n",
       "    </tr>\n",
       "    <tr>\n",
       "      <th>249</th>\n",
       "      <td>Zimbabwe</td>\n",
       "    </tr>\n",
       "  </tbody>\n",
       "</table>\n",
       "<p>250 rows × 1 columns</p>\n",
       "</div>"
      ],
      "text/plain": [
       "                     pais\n",
       "0                 Andorra\n",
       "1    United Arab Emirates\n",
       "2             Afghanistan\n",
       "3     Antigua and Barbuda\n",
       "4                Anguilla\n",
       "..                    ...\n",
       "245                 Yemen\n",
       "246               Mayotte\n",
       "247          South Africa\n",
       "248                Zambia\n",
       "249              Zimbabwe\n",
       "\n",
       "[250 rows x 1 columns]"
      ]
     },
     "execution_count": 51,
     "metadata": {},
     "output_type": "execute_result"
    }
   ],
   "source": [
    "# Busca todos os links na 5ª coluna, onde estão os países\n",
    "country_links = table.select(\"tr td:nth-of-type(5) a\")\n",
    "\n",
    "# Extrai apenas o texto (nome dos países)\n",
    "paises = [link.text.strip() for link in country_links]\n",
    "\n",
    "# Cria o DataFrame\n",
    "df = pd.DataFrame(paises, columns=[\"pais\"])\n",
    "df"
   ]
  },
  {
   "cell_type": "code",
   "execution_count": 52,
   "metadata": {
    "colab": {
     "base_uri": "https://localhost:8080/"
    },
    "id": "a6PqsYZmWtGW",
    "outputId": "256dca6a-80aa-44f0-baa4-397bb2b11ad3"
   },
   "outputs": [],
   "source": [
    "rows = table.find_all(\"tr\")[1:]\n",
    "#rows"
   ]
  },
  {
   "cell_type": "code",
   "execution_count": 53,
   "metadata": {
    "colab": {
     "base_uri": "https://localhost:8080/"
    },
    "id": "h-LsHb2uXAZC",
    "outputId": "4ecea108-66e8-4578-a24c-c843b8c8033c"
   },
   "outputs": [
    {
     "data": {
      "text/plain": [
       "['Andorra la Vella',\n",
       " 'Abu Dhabi',\n",
       " 'Kabul',\n",
       " \"St. John's\",\n",
       " 'The Valley',\n",
       " 'Tirana',\n",
       " 'Yerevan',\n",
       " 'Luanda',\n",
       " '',\n",
       " 'Buenos Aires',\n",
       " 'Pago Pago',\n",
       " 'Vienna',\n",
       " 'Canberra',\n",
       " 'Oranjestad',\n",
       " 'Mariehamn',\n",
       " 'Baku',\n",
       " 'Sarajevo',\n",
       " 'Bridgetown',\n",
       " 'Dhaka',\n",
       " 'Brussels',\n",
       " 'Ouagadougou',\n",
       " 'Sofia',\n",
       " 'Manama',\n",
       " 'Gitega',\n",
       " 'Porto-Novo',\n",
       " 'Gustavia',\n",
       " 'Hamilton',\n",
       " 'Bandar Seri Begawan',\n",
       " 'Sucre',\n",
       " '',\n",
       " 'Brasilia',\n",
       " 'Nassau',\n",
       " 'Thimphu',\n",
       " '',\n",
       " 'Gaborone',\n",
       " 'Minsk',\n",
       " 'Belmopan',\n",
       " 'Ottawa',\n",
       " 'West Island',\n",
       " 'Kinshasa',\n",
       " 'Bangui',\n",
       " 'Brazzaville',\n",
       " 'Bern',\n",
       " 'Yamoussoukro',\n",
       " 'Avarua',\n",
       " 'Santiago',\n",
       " 'Yaounde',\n",
       " 'Beijing',\n",
       " 'Bogota',\n",
       " 'San Jose',\n",
       " 'Havana',\n",
       " 'Praia',\n",
       " 'Willemstad',\n",
       " 'Flying Fish Cove',\n",
       " 'Nicosia',\n",
       " 'Prague',\n",
       " 'Berlin',\n",
       " 'Djibouti',\n",
       " 'Copenhagen',\n",
       " 'Roseau',\n",
       " 'Santo Domingo',\n",
       " 'Algiers',\n",
       " 'Quito',\n",
       " 'Tallinn',\n",
       " 'Cairo',\n",
       " 'El-Aaiun',\n",
       " 'Asmara',\n",
       " 'Madrid',\n",
       " 'Addis Ababa',\n",
       " 'Helsinki',\n",
       " 'Suva',\n",
       " 'Stanley',\n",
       " 'Palikir',\n",
       " 'Torshavn',\n",
       " 'Paris',\n",
       " 'Libreville',\n",
       " 'London',\n",
       " \"St. George's\",\n",
       " 'Tbilisi',\n",
       " 'Cayenne',\n",
       " 'St Peter Port',\n",
       " 'Accra',\n",
       " 'Gibraltar',\n",
       " 'Nuuk',\n",
       " 'Banjul',\n",
       " 'Conakry',\n",
       " 'Basse-Terre',\n",
       " 'Malabo',\n",
       " 'Athens',\n",
       " 'Grytviken',\n",
       " 'Guatemala City',\n",
       " 'Hagatna',\n",
       " 'Bissau',\n",
       " 'Georgetown',\n",
       " 'Hong Kong',\n",
       " '',\n",
       " 'Tegucigalpa',\n",
       " 'Zagreb',\n",
       " 'Port-au-Prince',\n",
       " 'Budapest',\n",
       " 'Jakarta',\n",
       " 'Dublin',\n",
       " 'Jerusalem',\n",
       " 'Douglas',\n",
       " 'New Delhi',\n",
       " 'Diego Garcia',\n",
       " 'Baghdad',\n",
       " 'Tehran',\n",
       " 'Reykjavik',\n",
       " 'Rome',\n",
       " 'Saint Helier',\n",
       " 'Kingston',\n",
       " 'Amman',\n",
       " 'Tokyo',\n",
       " 'Nairobi',\n",
       " 'Bishkek',\n",
       " 'Phnom Penh',\n",
       " 'Tarawa',\n",
       " 'Moroni',\n",
       " 'Basseterre',\n",
       " 'Pyongyang',\n",
       " 'Seoul',\n",
       " 'Kuwait City',\n",
       " 'George Town',\n",
       " 'Nur-Sultan',\n",
       " 'Vientiane',\n",
       " 'Beirut',\n",
       " 'Castries',\n",
       " 'Vaduz',\n",
       " 'Colombo',\n",
       " 'Monrovia',\n",
       " 'Maseru',\n",
       " 'Vilnius',\n",
       " 'Luxembourg',\n",
       " 'Riga',\n",
       " 'Tripoli',\n",
       " 'Rabat',\n",
       " 'Monaco',\n",
       " 'Chisinau',\n",
       " 'Podgorica',\n",
       " 'Marigot',\n",
       " 'Antananarivo',\n",
       " 'Majuro',\n",
       " 'Skopje',\n",
       " 'Bamako',\n",
       " 'Nay Pyi Taw',\n",
       " 'Ulaanbaatar',\n",
       " 'Macao',\n",
       " 'Saipan',\n",
       " 'Fort-de-France',\n",
       " 'Nouakchott',\n",
       " 'Plymouth',\n",
       " 'Valletta',\n",
       " 'Port Louis',\n",
       " 'Male',\n",
       " 'Lilongwe',\n",
       " 'Mexico City',\n",
       " 'Kuala Lumpur',\n",
       " 'Maputo',\n",
       " 'Windhoek',\n",
       " 'Noumea',\n",
       " 'Niamey',\n",
       " 'Kingston',\n",
       " 'Abuja',\n",
       " 'Managua',\n",
       " 'Amsterdam',\n",
       " 'Oslo',\n",
       " 'Kathmandu',\n",
       " 'Yaren',\n",
       " 'Alofi',\n",
       " 'Wellington',\n",
       " 'Muscat',\n",
       " 'Panama City',\n",
       " 'Lima',\n",
       " 'Papeete',\n",
       " 'Port Moresby',\n",
       " 'Manila',\n",
       " 'Islamabad',\n",
       " 'Warsaw',\n",
       " 'Saint-Pierre',\n",
       " 'Adamstown',\n",
       " 'San Juan',\n",
       " 'East Jerusalem',\n",
       " 'Lisbon',\n",
       " 'Melekeok',\n",
       " 'Asuncion',\n",
       " 'Doha',\n",
       " 'Saint-Denis',\n",
       " 'Bucharest',\n",
       " 'Belgrade',\n",
       " 'Moscow',\n",
       " 'Kigali',\n",
       " 'Riyadh',\n",
       " 'Honiara',\n",
       " 'Victoria',\n",
       " 'Khartoum',\n",
       " 'Stockholm',\n",
       " 'Singapore',\n",
       " 'Jamestown',\n",
       " 'Ljubljana',\n",
       " 'Longyearbyen',\n",
       " 'Bratislava',\n",
       " 'Freetown',\n",
       " 'San Marino',\n",
       " 'Dakar',\n",
       " 'Mogadishu',\n",
       " 'Paramaribo',\n",
       " 'Juba',\n",
       " 'Sao Tome',\n",
       " 'San Salvador',\n",
       " 'Philipsburg',\n",
       " 'Damascus',\n",
       " 'Mbabane',\n",
       " 'Cockburn Town',\n",
       " \"N'Djamena\",\n",
       " 'Port-aux-Francais',\n",
       " 'Lome',\n",
       " 'Bangkok',\n",
       " 'Dushanbe',\n",
       " '',\n",
       " 'Dili',\n",
       " 'Ashgabat',\n",
       " 'Tunis',\n",
       " \"Nuku'alofa\",\n",
       " 'Ankara',\n",
       " 'Port of Spain',\n",
       " 'Funafuti',\n",
       " 'Taipei',\n",
       " 'Dodoma',\n",
       " 'Kyiv',\n",
       " 'Kampala',\n",
       " '',\n",
       " 'Washington',\n",
       " 'Montevideo',\n",
       " 'Tashkent',\n",
       " 'Vatican City',\n",
       " 'Kingstown',\n",
       " 'Caracas',\n",
       " 'Road Town',\n",
       " 'Charlotte Amalie',\n",
       " 'Hanoi',\n",
       " 'Port Vila',\n",
       " 'Mata Utu',\n",
       " 'Apia',\n",
       " 'Pristina',\n",
       " 'Sanaa',\n",
       " 'Mamoudzou',\n",
       " 'Pretoria',\n",
       " 'Lusaka',\n",
       " 'Harare']"
      ]
     },
     "execution_count": 53,
     "metadata": {},
     "output_type": "execute_result"
    }
   ],
   "source": [
    "capitais = []  # Cria uma lista vazia chamada 'capitais' para armazenar os nomes das capitais\n",
    "\n",
    "for row in rows:  # Itera sobre cada linha da tabela (exceto o cabeçalho, que foi excluído antes)\n",
    "    cols = row.find_all(\"td\")  # Busca todas as células <td> da linha atual e armazena na lista 'cols'\n",
    "\n",
    "    if len(cols) >= 6:  # Garante que a linha tenha ao menos 6 colunas para evitar erro de índice\n",
    "        capital = cols[5].text.strip()  # Pega o conteúdo de texto da 6ª coluna (índice 5) e remove espaços em branco\n",
    "        capitais.append(capital)  # Adiciona o nome da capital à lista 'capitais'\n",
    "\n",
    "#capitais  # Exibe a lista de capitais"
   ]
  },
  {
   "cell_type": "code",
   "execution_count": 54,
   "metadata": {
    "colab": {
     "base_uri": "https://localhost:8080/",
     "height": 423
    },
    "id": "Ps2LRaaZXQzE",
    "outputId": "4c5900f0-6624-429b-9e8c-8679d10abec6"
   },
   "outputs": [
    {
     "data": {
      "text/html": [
       "<div>\n",
       "<style scoped>\n",
       "    .dataframe tbody tr th:only-of-type {\n",
       "        vertical-align: middle;\n",
       "    }\n",
       "\n",
       "    .dataframe tbody tr th {\n",
       "        vertical-align: top;\n",
       "    }\n",
       "\n",
       "    .dataframe thead th {\n",
       "        text-align: right;\n",
       "    }\n",
       "</style>\n",
       "<table border=\"1\" class=\"dataframe\">\n",
       "  <thead>\n",
       "    <tr style=\"text-align: right;\">\n",
       "      <th></th>\n",
       "      <th>pais</th>\n",
       "    </tr>\n",
       "  </thead>\n",
       "  <tbody>\n",
       "    <tr>\n",
       "      <th>0</th>\n",
       "      <td>Andorra</td>\n",
       "    </tr>\n",
       "    <tr>\n",
       "      <th>1</th>\n",
       "      <td>United Arab Emirates</td>\n",
       "    </tr>\n",
       "    <tr>\n",
       "      <th>2</th>\n",
       "      <td>Afghanistan</td>\n",
       "    </tr>\n",
       "    <tr>\n",
       "      <th>3</th>\n",
       "      <td>Antigua and Barbuda</td>\n",
       "    </tr>\n",
       "    <tr>\n",
       "      <th>4</th>\n",
       "      <td>Anguilla</td>\n",
       "    </tr>\n",
       "    <tr>\n",
       "      <th>...</th>\n",
       "      <td>...</td>\n",
       "    </tr>\n",
       "    <tr>\n",
       "      <th>245</th>\n",
       "      <td>Yemen</td>\n",
       "    </tr>\n",
       "    <tr>\n",
       "      <th>246</th>\n",
       "      <td>Mayotte</td>\n",
       "    </tr>\n",
       "    <tr>\n",
       "      <th>247</th>\n",
       "      <td>South Africa</td>\n",
       "    </tr>\n",
       "    <tr>\n",
       "      <th>248</th>\n",
       "      <td>Zambia</td>\n",
       "    </tr>\n",
       "    <tr>\n",
       "      <th>249</th>\n",
       "      <td>Zimbabwe</td>\n",
       "    </tr>\n",
       "  </tbody>\n",
       "</table>\n",
       "<p>250 rows × 1 columns</p>\n",
       "</div>"
      ],
      "text/plain": [
       "                     pais\n",
       "0                 Andorra\n",
       "1    United Arab Emirates\n",
       "2             Afghanistan\n",
       "3     Antigua and Barbuda\n",
       "4                Anguilla\n",
       "..                    ...\n",
       "245                 Yemen\n",
       "246               Mayotte\n",
       "247          South Africa\n",
       "248                Zambia\n",
       "249              Zimbabwe\n",
       "\n",
       "[250 rows x 1 columns]"
      ]
     },
     "execution_count": 54,
     "metadata": {},
     "output_type": "execute_result"
    }
   ],
   "source": [
    "df"
   ]
  },
  {
   "cell_type": "code",
   "execution_count": 55,
   "metadata": {
    "colab": {
     "base_uri": "https://localhost:8080/",
     "height": 423
    },
    "id": "BIk9S15TXlH6",
    "outputId": "8ecdbae1-f497-4f1c-bd7c-d393301c1d9e"
   },
   "outputs": [
    {
     "data": {
      "text/html": [
       "<div>\n",
       "<style scoped>\n",
       "    .dataframe tbody tr th:only-of-type {\n",
       "        vertical-align: middle;\n",
       "    }\n",
       "\n",
       "    .dataframe tbody tr th {\n",
       "        vertical-align: top;\n",
       "    }\n",
       "\n",
       "    .dataframe thead th {\n",
       "        text-align: right;\n",
       "    }\n",
       "</style>\n",
       "<table border=\"1\" class=\"dataframe\">\n",
       "  <thead>\n",
       "    <tr style=\"text-align: right;\">\n",
       "      <th></th>\n",
       "      <th>pais</th>\n",
       "      <th>capital</th>\n",
       "    </tr>\n",
       "  </thead>\n",
       "  <tbody>\n",
       "    <tr>\n",
       "      <th>0</th>\n",
       "      <td>Andorra</td>\n",
       "      <td>Andorra la Vella</td>\n",
       "    </tr>\n",
       "    <tr>\n",
       "      <th>1</th>\n",
       "      <td>United Arab Emirates</td>\n",
       "      <td>Abu Dhabi</td>\n",
       "    </tr>\n",
       "    <tr>\n",
       "      <th>2</th>\n",
       "      <td>Afghanistan</td>\n",
       "      <td>Kabul</td>\n",
       "    </tr>\n",
       "    <tr>\n",
       "      <th>3</th>\n",
       "      <td>Antigua and Barbuda</td>\n",
       "      <td>St. John's</td>\n",
       "    </tr>\n",
       "    <tr>\n",
       "      <th>4</th>\n",
       "      <td>Anguilla</td>\n",
       "      <td>The Valley</td>\n",
       "    </tr>\n",
       "    <tr>\n",
       "      <th>...</th>\n",
       "      <td>...</td>\n",
       "      <td>...</td>\n",
       "    </tr>\n",
       "    <tr>\n",
       "      <th>245</th>\n",
       "      <td>Yemen</td>\n",
       "      <td>Sanaa</td>\n",
       "    </tr>\n",
       "    <tr>\n",
       "      <th>246</th>\n",
       "      <td>Mayotte</td>\n",
       "      <td>Mamoudzou</td>\n",
       "    </tr>\n",
       "    <tr>\n",
       "      <th>247</th>\n",
       "      <td>South Africa</td>\n",
       "      <td>Pretoria</td>\n",
       "    </tr>\n",
       "    <tr>\n",
       "      <th>248</th>\n",
       "      <td>Zambia</td>\n",
       "      <td>Lusaka</td>\n",
       "    </tr>\n",
       "    <tr>\n",
       "      <th>249</th>\n",
       "      <td>Zimbabwe</td>\n",
       "      <td>Harare</td>\n",
       "    </tr>\n",
       "  </tbody>\n",
       "</table>\n",
       "<p>250 rows × 2 columns</p>\n",
       "</div>"
      ],
      "text/plain": [
       "                     pais           capital\n",
       "0                 Andorra  Andorra la Vella\n",
       "1    United Arab Emirates         Abu Dhabi\n",
       "2             Afghanistan             Kabul\n",
       "3     Antigua and Barbuda        St. John's\n",
       "4                Anguilla        The Valley\n",
       "..                    ...               ...\n",
       "245                 Yemen             Sanaa\n",
       "246               Mayotte         Mamoudzou\n",
       "247          South Africa          Pretoria\n",
       "248                Zambia            Lusaka\n",
       "249              Zimbabwe            Harare\n",
       "\n",
       "[250 rows x 2 columns]"
      ]
     },
     "execution_count": 55,
     "metadata": {},
     "output_type": "execute_result"
    }
   ],
   "source": [
    "df['capital'] = capitais\n",
    "df"
   ]
  },
  {
   "cell_type": "code",
   "execution_count": 56,
   "metadata": {
    "colab": {
     "base_uri": "https://localhost:8080/",
     "height": 81
    },
    "id": "RVo0IHFCX3Vq",
    "outputId": "ea87be60-d3d6-4b14-bf46-99dd23a3323b"
   },
   "outputs": [
    {
     "data": {
      "text/html": [
       "<div>\n",
       "<style scoped>\n",
       "    .dataframe tbody tr th:only-of-type {\n",
       "        vertical-align: middle;\n",
       "    }\n",
       "\n",
       "    .dataframe tbody tr th {\n",
       "        vertical-align: top;\n",
       "    }\n",
       "\n",
       "    .dataframe thead th {\n",
       "        text-align: right;\n",
       "    }\n",
       "</style>\n",
       "<table border=\"1\" class=\"dataframe\">\n",
       "  <thead>\n",
       "    <tr style=\"text-align: right;\">\n",
       "      <th></th>\n",
       "      <th>pais</th>\n",
       "      <th>capital</th>\n",
       "    </tr>\n",
       "  </thead>\n",
       "  <tbody>\n",
       "    <tr>\n",
       "      <th>30</th>\n",
       "      <td>Brazil</td>\n",
       "      <td>Brasilia</td>\n",
       "    </tr>\n",
       "  </tbody>\n",
       "</table>\n",
       "</div>"
      ],
      "text/plain": [
       "      pais   capital\n",
       "30  Brazil  Brasilia"
      ]
     },
     "execution_count": 56,
     "metadata": {},
     "output_type": "execute_result"
    }
   ],
   "source": [
    "df.loc[df['pais'] == 'Brazil']"
   ]
  },
  {
   "cell_type": "markdown",
   "metadata": {
    "id": "uwhhq7tZGaAT"
   },
   "source": [
    "# Scraping de páginas diferentes\n",
    "\n",
    "Vamos criar um CSV com citações, autor e a categoria correspondente, limitando-se somente à primeira página de cada tema.\n",
    "\n",
    "[Citações](https://quotes.toscrape.com/tag/inspirational/)\n",
    "\n",
    "---"
   ]
  },
  {
   "cell_type": "code",
   "execution_count": 57,
   "metadata": {
    "colab": {
     "base_uri": "https://localhost:8080/"
    },
    "id": "LFS3YKhTGdtE",
    "outputId": "fbe6484d-9717-4ecb-c27b-2fc2cb3a200b"
   },
   "outputs": [],
   "source": [
    "import requests\n",
    "from bs4 import BeautifulSoup\n",
    "import pandas as pd\n",
    "\n",
    "# URL base\n",
    "url = \"http://quotes.toscrape.com/\"\n",
    "\n",
    "# Faz requisição para a página\n",
    "response = requests.get(url)\n",
    "soup = BeautifulSoup(response.text, \"html.parser\")\n",
    "#soup"
   ]
  },
  {
   "cell_type": "code",
   "execution_count": 58,
   "metadata": {
    "colab": {
     "base_uri": "https://localhost:8080/"
    },
    "id": "e5OiH-cKOlfG",
    "outputId": "b65fd226-a7ee-470b-8085-77a1631f602a"
   },
   "outputs": [],
   "source": [
    "# Lista para guardar os dados\n",
    "dados = []\n",
    "\n",
    "# Encontra todas as citações na página\n",
    "quotes = soup.find_all(\"div\", class_=\"quote\")\n",
    "#quotes"
   ]
  },
  {
   "cell_type": "code",
   "execution_count": 59,
   "metadata": {
    "colab": {
     "base_uri": "https://localhost:8080/"
    },
    "id": "EuaJ-xQsO57r",
    "outputId": "fcbc23d4-f4bf-481b-be9f-5c2414bc0792"
   },
   "outputs": [
    {
     "data": {
      "text/plain": [
       "[{'citacao': '“The world as we have created it is a process of our thinking. It cannot be changed without changing our thinking.”',\n",
       "  'autor': 'Albert Einstein'},\n",
       " {'citacao': '“It is our choices, Harry, that show what we truly are, far more than our abilities.”',\n",
       "  'autor': 'J.K. Rowling'},\n",
       " {'citacao': '“There are only two ways to live your life. One is as though nothing is a miracle. The other is as though everything is a miracle.”',\n",
       "  'autor': 'Albert Einstein'},\n",
       " {'citacao': '“The person, be it gentleman or lady, who has not pleasure in a good novel, must be intolerably stupid.”',\n",
       "  'autor': 'Jane Austen'},\n",
       " {'citacao': \"“Imperfection is beauty, madness is genius and it's better to be absolutely ridiculous than absolutely boring.”\",\n",
       "  'autor': 'Marilyn Monroe'},\n",
       " {'citacao': '“Try not to become a man of success. Rather become a man of value.”',\n",
       "  'autor': 'Albert Einstein'},\n",
       " {'citacao': '“It is better to be hated for what you are than to be loved for what you are not.”',\n",
       "  'autor': 'André Gide'},\n",
       " {'citacao': \"“I have not failed. I've just found 10,000 ways that won't work.”\",\n",
       "  'autor': 'Thomas A. Edison'},\n",
       " {'citacao': \"“A woman is like a tea bag; you never know how strong it is until it's in hot water.”\",\n",
       "  'autor': 'Eleanor Roosevelt'},\n",
       " {'citacao': '“A day without sunshine is like, you know, night.”',\n",
       "  'autor': 'Steve Martin'}]"
      ]
     },
     "execution_count": 59,
     "metadata": {},
     "output_type": "execute_result"
    }
   ],
   "source": [
    "for quote in quotes:\n",
    "    texto = quote.find(\"span\", class_=\"text\").text\n",
    "    autor = quote.find(\"small\", class_=\"author\").text\n",
    "\n",
    "    # Adiciona os dados como dicionário\n",
    "    dados.append({\n",
    "        \"citacao\": texto,\n",
    "        \"autor\": autor\n",
    "    })\n",
    "dados"
   ]
  },
  {
   "cell_type": "code",
   "execution_count": 60,
   "metadata": {
    "colab": {
     "base_uri": "https://localhost:8080/",
     "height": 397
    },
    "id": "mnhzsU5XPDUo",
    "outputId": "3e2bf578-1cce-4fd3-a0f3-82528b8ef14b"
   },
   "outputs": [
    {
     "name": "stdout",
     "output_type": "stream",
     "text": [
      "CSV criado com sucesso: citacoes.csv\n",
      "\n"
     ]
    },
    {
     "data": {
      "text/html": [
       "<div>\n",
       "<style scoped>\n",
       "    .dataframe tbody tr th:only-of-type {\n",
       "        vertical-align: middle;\n",
       "    }\n",
       "\n",
       "    .dataframe tbody tr th {\n",
       "        vertical-align: top;\n",
       "    }\n",
       "\n",
       "    .dataframe thead th {\n",
       "        text-align: right;\n",
       "    }\n",
       "</style>\n",
       "<table border=\"1\" class=\"dataframe\">\n",
       "  <thead>\n",
       "    <tr style=\"text-align: right;\">\n",
       "      <th></th>\n",
       "      <th>citacao</th>\n",
       "      <th>autor</th>\n",
       "    </tr>\n",
       "  </thead>\n",
       "  <tbody>\n",
       "    <tr>\n",
       "      <th>0</th>\n",
       "      <td>“The world as we have created it is a process ...</td>\n",
       "      <td>Albert Einstein</td>\n",
       "    </tr>\n",
       "    <tr>\n",
       "      <th>1</th>\n",
       "      <td>“It is our choices, Harry, that show what we t...</td>\n",
       "      <td>J.K. Rowling</td>\n",
       "    </tr>\n",
       "    <tr>\n",
       "      <th>2</th>\n",
       "      <td>“There are only two ways to live your life. On...</td>\n",
       "      <td>Albert Einstein</td>\n",
       "    </tr>\n",
       "    <tr>\n",
       "      <th>3</th>\n",
       "      <td>“The person, be it gentleman or lady, who has ...</td>\n",
       "      <td>Jane Austen</td>\n",
       "    </tr>\n",
       "    <tr>\n",
       "      <th>4</th>\n",
       "      <td>“Imperfection is beauty, madness is genius and...</td>\n",
       "      <td>Marilyn Monroe</td>\n",
       "    </tr>\n",
       "    <tr>\n",
       "      <th>5</th>\n",
       "      <td>“Try not to become a man of success. Rather be...</td>\n",
       "      <td>Albert Einstein</td>\n",
       "    </tr>\n",
       "    <tr>\n",
       "      <th>6</th>\n",
       "      <td>“It is better to be hated for what you are tha...</td>\n",
       "      <td>André Gide</td>\n",
       "    </tr>\n",
       "    <tr>\n",
       "      <th>7</th>\n",
       "      <td>“I have not failed. I've just found 10,000 way...</td>\n",
       "      <td>Thomas A. Edison</td>\n",
       "    </tr>\n",
       "    <tr>\n",
       "      <th>8</th>\n",
       "      <td>“A woman is like a tea bag; you never know how...</td>\n",
       "      <td>Eleanor Roosevelt</td>\n",
       "    </tr>\n",
       "    <tr>\n",
       "      <th>9</th>\n",
       "      <td>“A day without sunshine is like, you know, nig...</td>\n",
       "      <td>Steve Martin</td>\n",
       "    </tr>\n",
       "  </tbody>\n",
       "</table>\n",
       "</div>"
      ],
      "text/plain": [
       "                                             citacao              autor\n",
       "0  “The world as we have created it is a process ...    Albert Einstein\n",
       "1  “It is our choices, Harry, that show what we t...       J.K. Rowling\n",
       "2  “There are only two ways to live your life. On...    Albert Einstein\n",
       "3  “The person, be it gentleman or lady, who has ...        Jane Austen\n",
       "4  “Imperfection is beauty, madness is genius and...     Marilyn Monroe\n",
       "5  “Try not to become a man of success. Rather be...    Albert Einstein\n",
       "6  “It is better to be hated for what you are tha...         André Gide\n",
       "7  “I have not failed. I've just found 10,000 way...   Thomas A. Edison\n",
       "8  “A woman is like a tea bag; you never know how...  Eleanor Roosevelt\n",
       "9  “A day without sunshine is like, you know, nig...       Steve Martin"
      ]
     },
     "execution_count": 60,
     "metadata": {},
     "output_type": "execute_result"
    }
   ],
   "source": [
    "# Cria um DataFrame com os dados\n",
    "df = pd.DataFrame(dados)\n",
    "\n",
    "# Salva em um arquivo CSV\n",
    "#df.to_csv(\"citacoes.csv\", index=False, encoding='utf-8')\n",
    "\n",
    "print(\"CSV criado com sucesso: citacoes.csv\\n\")\n",
    "df"
   ]
  },
  {
   "cell_type": "code",
   "execution_count": 61,
   "metadata": {
    "id": "pvWMfZVzPyl-"
   },
   "outputs": [],
   "source": [
    "import requests\n",
    "from bs4 import BeautifulSoup\n",
    "import pandas as pd\n",
    "\n",
    "# Categorias desejadas\n",
    "categorias = [\"love\", \"inspirational\", \"life\", \"humor\"]\n",
    "\n",
    "# Lista para armazenar os dados raspados\n",
    "dados = []"
   ]
  },
  {
   "cell_type": "markdown",
   "metadata": {
    "id": "PVrXxfzgPOe1"
   },
   "source": [
    "#"
   ]
  },
  {
   "cell_type": "code",
   "execution_count": 62,
   "metadata": {
    "colab": {
     "base_uri": "https://localhost:8080/"
    },
    "id": "BYm5n9cGPHfy",
    "outputId": "64c22f05-591d-4835-ede4-495d72503d8b"
   },
   "outputs": [],
   "source": [
    "# Loop pelas categorias\n",
    "for categoria in categorias:\n",
    "    url = f\"https://quotes.toscrape.com/tag/{categoria}/\"\n",
    "    response = requests.get(url)\n",
    "    soup = BeautifulSoup(response.text, \"html.parser\")\n",
    "\n",
    "    # Encontrar todas as citações da primeira página\n",
    "    quotes = soup.find_all(\"div\", class_=\"quote\")\n",
    "\n",
    "    for quote in quotes:\n",
    "        texto = quote.find(\"span\", class_=\"text\").text.strip()\n",
    "        autor = quote.find(\"small\", class_=\"author\").text.strip()\n",
    "\n",
    "        dados.append({\n",
    "            \"citacao\": texto,\n",
    "            \"autor\": autor,\n",
    "            \"categoria\": categoria\n",
    "        })\n",
    "#dados"
   ]
  },
  {
   "cell_type": "code",
   "execution_count": 63,
   "metadata": {
    "colab": {
     "base_uri": "https://localhost:8080/",
     "height": 1000
    },
    "id": "ZEehHU_wQuAW",
    "outputId": "759b42a5-ffdb-45c5-c0cf-b2f7d375b56a"
   },
   "outputs": [
    {
     "data": {
      "text/html": [
       "<div>\n",
       "<style scoped>\n",
       "    .dataframe tbody tr th:only-of-type {\n",
       "        vertical-align: middle;\n",
       "    }\n",
       "\n",
       "    .dataframe tbody tr th {\n",
       "        vertical-align: top;\n",
       "    }\n",
       "\n",
       "    .dataframe thead th {\n",
       "        text-align: right;\n",
       "    }\n",
       "</style>\n",
       "<table border=\"1\" class=\"dataframe\">\n",
       "  <thead>\n",
       "    <tr style=\"text-align: right;\">\n",
       "      <th></th>\n",
       "      <th>citacao</th>\n",
       "      <th>autor</th>\n",
       "      <th>categoria</th>\n",
       "    </tr>\n",
       "  </thead>\n",
       "  <tbody>\n",
       "    <tr>\n",
       "      <th>0</th>\n",
       "      <td>“It is better to be hated for what you are tha...</td>\n",
       "      <td>André Gide</td>\n",
       "      <td>love</td>\n",
       "    </tr>\n",
       "    <tr>\n",
       "      <th>1</th>\n",
       "      <td>“This life is what you make it. No matter what...</td>\n",
       "      <td>Marilyn Monroe</td>\n",
       "      <td>love</td>\n",
       "    </tr>\n",
       "    <tr>\n",
       "      <th>2</th>\n",
       "      <td>“You may not be her first, her last, or her on...</td>\n",
       "      <td>Bob Marley</td>\n",
       "      <td>love</td>\n",
       "    </tr>\n",
       "    <tr>\n",
       "      <th>3</th>\n",
       "      <td>“The opposite of love is not hate, it's indiff...</td>\n",
       "      <td>Elie Wiesel</td>\n",
       "      <td>love</td>\n",
       "    </tr>\n",
       "    <tr>\n",
       "      <th>4</th>\n",
       "      <td>“It is not a lack of love, but a lack of frien...</td>\n",
       "      <td>Friedrich Nietzsche</td>\n",
       "      <td>love</td>\n",
       "    </tr>\n",
       "    <tr>\n",
       "      <th>5</th>\n",
       "      <td>“I love you without knowing how, or when, or f...</td>\n",
       "      <td>Pablo Neruda</td>\n",
       "      <td>love</td>\n",
       "    </tr>\n",
       "    <tr>\n",
       "      <th>6</th>\n",
       "      <td>“If you can make a woman laugh, you can make h...</td>\n",
       "      <td>Marilyn Monroe</td>\n",
       "      <td>love</td>\n",
       "    </tr>\n",
       "    <tr>\n",
       "      <th>7</th>\n",
       "      <td>“The real lover is the man who can thrill you ...</td>\n",
       "      <td>Marilyn Monroe</td>\n",
       "      <td>love</td>\n",
       "    </tr>\n",
       "    <tr>\n",
       "      <th>8</th>\n",
       "      <td>“Love does not begin and end the way we seem t...</td>\n",
       "      <td>James Baldwin</td>\n",
       "      <td>love</td>\n",
       "    </tr>\n",
       "    <tr>\n",
       "      <th>9</th>\n",
       "      <td>“There is nothing I would not do for those who...</td>\n",
       "      <td>Jane Austen</td>\n",
       "      <td>love</td>\n",
       "    </tr>\n",
       "    <tr>\n",
       "      <th>10</th>\n",
       "      <td>“There are only two ways to live your life. On...</td>\n",
       "      <td>Albert Einstein</td>\n",
       "      <td>inspirational</td>\n",
       "    </tr>\n",
       "    <tr>\n",
       "      <th>11</th>\n",
       "      <td>“Imperfection is beauty, madness is genius and...</td>\n",
       "      <td>Marilyn Monroe</td>\n",
       "      <td>inspirational</td>\n",
       "    </tr>\n",
       "    <tr>\n",
       "      <th>12</th>\n",
       "      <td>“I have not failed. I've just found 10,000 way...</td>\n",
       "      <td>Thomas A. Edison</td>\n",
       "      <td>inspirational</td>\n",
       "    </tr>\n",
       "    <tr>\n",
       "      <th>13</th>\n",
       "      <td>“This life is what you make it. No matter what...</td>\n",
       "      <td>Marilyn Monroe</td>\n",
       "      <td>inspirational</td>\n",
       "    </tr>\n",
       "    <tr>\n",
       "      <th>14</th>\n",
       "      <td>“The opposite of love is not hate, it's indiff...</td>\n",
       "      <td>Elie Wiesel</td>\n",
       "      <td>inspirational</td>\n",
       "    </tr>\n",
       "    <tr>\n",
       "      <th>15</th>\n",
       "      <td>“To the well-organized mind, death is but the ...</td>\n",
       "      <td>J.K. Rowling</td>\n",
       "      <td>inspirational</td>\n",
       "    </tr>\n",
       "    <tr>\n",
       "      <th>16</th>\n",
       "      <td>“It is never too late to be what you might hav...</td>\n",
       "      <td>George Eliot</td>\n",
       "      <td>inspirational</td>\n",
       "    </tr>\n",
       "    <tr>\n",
       "      <th>17</th>\n",
       "      <td>“You can never get a cup of tea large enough o...</td>\n",
       "      <td>C.S. Lewis</td>\n",
       "      <td>inspirational</td>\n",
       "    </tr>\n",
       "    <tr>\n",
       "      <th>18</th>\n",
       "      <td>“Only in the darkness can you see the stars.”</td>\n",
       "      <td>Martin Luther King Jr.</td>\n",
       "      <td>inspirational</td>\n",
       "    </tr>\n",
       "    <tr>\n",
       "      <th>19</th>\n",
       "      <td>“When one door of happiness closes, another op...</td>\n",
       "      <td>Helen Keller</td>\n",
       "      <td>inspirational</td>\n",
       "    </tr>\n",
       "    <tr>\n",
       "      <th>20</th>\n",
       "      <td>“There are only two ways to live your life. On...</td>\n",
       "      <td>Albert Einstein</td>\n",
       "      <td>life</td>\n",
       "    </tr>\n",
       "    <tr>\n",
       "      <th>21</th>\n",
       "      <td>“It is better to be hated for what you are tha...</td>\n",
       "      <td>André Gide</td>\n",
       "      <td>life</td>\n",
       "    </tr>\n",
       "    <tr>\n",
       "      <th>22</th>\n",
       "      <td>“This life is what you make it. No matter what...</td>\n",
       "      <td>Marilyn Monroe</td>\n",
       "      <td>life</td>\n",
       "    </tr>\n",
       "    <tr>\n",
       "      <th>23</th>\n",
       "      <td>“I may not have gone where I intended to go, b...</td>\n",
       "      <td>Douglas Adams</td>\n",
       "      <td>life</td>\n",
       "    </tr>\n",
       "    <tr>\n",
       "      <th>24</th>\n",
       "      <td>“Good friends, good books, and a sleepy consci...</td>\n",
       "      <td>Mark Twain</td>\n",
       "      <td>life</td>\n",
       "    </tr>\n",
       "    <tr>\n",
       "      <th>25</th>\n",
       "      <td>“Life is what happens to us while we are makin...</td>\n",
       "      <td>Allen Saunders</td>\n",
       "      <td>life</td>\n",
       "    </tr>\n",
       "    <tr>\n",
       "      <th>26</th>\n",
       "      <td>“Today you are You, that is truer than true. T...</td>\n",
       "      <td>Dr. Seuss</td>\n",
       "      <td>life</td>\n",
       "    </tr>\n",
       "    <tr>\n",
       "      <th>27</th>\n",
       "      <td>“Life is like riding a bicycle. To keep your b...</td>\n",
       "      <td>Albert Einstein</td>\n",
       "      <td>life</td>\n",
       "    </tr>\n",
       "    <tr>\n",
       "      <th>28</th>\n",
       "      <td>“Life isn't about finding yourself. Life is ab...</td>\n",
       "      <td>George Bernard Shaw</td>\n",
       "      <td>life</td>\n",
       "    </tr>\n",
       "    <tr>\n",
       "      <th>29</th>\n",
       "      <td>“Finish each day and be done with it. You have...</td>\n",
       "      <td>Ralph Waldo Emerson</td>\n",
       "      <td>life</td>\n",
       "    </tr>\n",
       "    <tr>\n",
       "      <th>30</th>\n",
       "      <td>“The person, be it gentleman or lady, who has ...</td>\n",
       "      <td>Jane Austen</td>\n",
       "      <td>humor</td>\n",
       "    </tr>\n",
       "    <tr>\n",
       "      <th>31</th>\n",
       "      <td>“A day without sunshine is like, you know, nig...</td>\n",
       "      <td>Steve Martin</td>\n",
       "      <td>humor</td>\n",
       "    </tr>\n",
       "    <tr>\n",
       "      <th>32</th>\n",
       "      <td>“Anyone who thinks sitting in church can make ...</td>\n",
       "      <td>Garrison Keillor</td>\n",
       "      <td>humor</td>\n",
       "    </tr>\n",
       "    <tr>\n",
       "      <th>33</th>\n",
       "      <td>“Beauty is in the eye of the beholder and it m...</td>\n",
       "      <td>Jim Henson</td>\n",
       "      <td>humor</td>\n",
       "    </tr>\n",
       "    <tr>\n",
       "      <th>34</th>\n",
       "      <td>“All you need is love. But a little chocolate ...</td>\n",
       "      <td>Charles M. Schulz</td>\n",
       "      <td>humor</td>\n",
       "    </tr>\n",
       "    <tr>\n",
       "      <th>35</th>\n",
       "      <td>“Remember, we're madly in love, so it's all ri...</td>\n",
       "      <td>Suzanne Collins</td>\n",
       "      <td>humor</td>\n",
       "    </tr>\n",
       "    <tr>\n",
       "      <th>36</th>\n",
       "      <td>“Some people never go crazy. What truly horrib...</td>\n",
       "      <td>Charles Bukowski</td>\n",
       "      <td>humor</td>\n",
       "    </tr>\n",
       "    <tr>\n",
       "      <th>37</th>\n",
       "      <td>“The trouble with having an open mind, of cour...</td>\n",
       "      <td>Terry Pratchett</td>\n",
       "      <td>humor</td>\n",
       "    </tr>\n",
       "    <tr>\n",
       "      <th>38</th>\n",
       "      <td>“Think left and think right and think low and ...</td>\n",
       "      <td>Dr. Seuss</td>\n",
       "      <td>humor</td>\n",
       "    </tr>\n",
       "    <tr>\n",
       "      <th>39</th>\n",
       "      <td>“The reason I talk to myself is because I’m th...</td>\n",
       "      <td>George Carlin</td>\n",
       "      <td>humor</td>\n",
       "    </tr>\n",
       "  </tbody>\n",
       "</table>\n",
       "</div>"
      ],
      "text/plain": [
       "                                              citacao                   autor  \\\n",
       "0   “It is better to be hated for what you are tha...              André Gide   \n",
       "1   “This life is what you make it. No matter what...          Marilyn Monroe   \n",
       "2   “You may not be her first, her last, or her on...              Bob Marley   \n",
       "3   “The opposite of love is not hate, it's indiff...             Elie Wiesel   \n",
       "4   “It is not a lack of love, but a lack of frien...     Friedrich Nietzsche   \n",
       "5   “I love you without knowing how, or when, or f...            Pablo Neruda   \n",
       "6   “If you can make a woman laugh, you can make h...          Marilyn Monroe   \n",
       "7   “The real lover is the man who can thrill you ...          Marilyn Monroe   \n",
       "8   “Love does not begin and end the way we seem t...           James Baldwin   \n",
       "9   “There is nothing I would not do for those who...             Jane Austen   \n",
       "10  “There are only two ways to live your life. On...         Albert Einstein   \n",
       "11  “Imperfection is beauty, madness is genius and...          Marilyn Monroe   \n",
       "12  “I have not failed. I've just found 10,000 way...        Thomas A. Edison   \n",
       "13  “This life is what you make it. No matter what...          Marilyn Monroe   \n",
       "14  “The opposite of love is not hate, it's indiff...             Elie Wiesel   \n",
       "15  “To the well-organized mind, death is but the ...            J.K. Rowling   \n",
       "16  “It is never too late to be what you might hav...            George Eliot   \n",
       "17  “You can never get a cup of tea large enough o...              C.S. Lewis   \n",
       "18      “Only in the darkness can you see the stars.”  Martin Luther King Jr.   \n",
       "19  “When one door of happiness closes, another op...            Helen Keller   \n",
       "20  “There are only two ways to live your life. On...         Albert Einstein   \n",
       "21  “It is better to be hated for what you are tha...              André Gide   \n",
       "22  “This life is what you make it. No matter what...          Marilyn Monroe   \n",
       "23  “I may not have gone where I intended to go, b...           Douglas Adams   \n",
       "24  “Good friends, good books, and a sleepy consci...              Mark Twain   \n",
       "25  “Life is what happens to us while we are makin...          Allen Saunders   \n",
       "26  “Today you are You, that is truer than true. T...               Dr. Seuss   \n",
       "27  “Life is like riding a bicycle. To keep your b...         Albert Einstein   \n",
       "28  “Life isn't about finding yourself. Life is ab...     George Bernard Shaw   \n",
       "29  “Finish each day and be done with it. You have...     Ralph Waldo Emerson   \n",
       "30  “The person, be it gentleman or lady, who has ...             Jane Austen   \n",
       "31  “A day without sunshine is like, you know, nig...            Steve Martin   \n",
       "32  “Anyone who thinks sitting in church can make ...        Garrison Keillor   \n",
       "33  “Beauty is in the eye of the beholder and it m...              Jim Henson   \n",
       "34  “All you need is love. But a little chocolate ...       Charles M. Schulz   \n",
       "35  “Remember, we're madly in love, so it's all ri...         Suzanne Collins   \n",
       "36  “Some people never go crazy. What truly horrib...        Charles Bukowski   \n",
       "37  “The trouble with having an open mind, of cour...         Terry Pratchett   \n",
       "38  “Think left and think right and think low and ...               Dr. Seuss   \n",
       "39  “The reason I talk to myself is because I’m th...           George Carlin   \n",
       "\n",
       "        categoria  \n",
       "0            love  \n",
       "1            love  \n",
       "2            love  \n",
       "3            love  \n",
       "4            love  \n",
       "5            love  \n",
       "6            love  \n",
       "7            love  \n",
       "8            love  \n",
       "9            love  \n",
       "10  inspirational  \n",
       "11  inspirational  \n",
       "12  inspirational  \n",
       "13  inspirational  \n",
       "14  inspirational  \n",
       "15  inspirational  \n",
       "16  inspirational  \n",
       "17  inspirational  \n",
       "18  inspirational  \n",
       "19  inspirational  \n",
       "20           life  \n",
       "21           life  \n",
       "22           life  \n",
       "23           life  \n",
       "24           life  \n",
       "25           life  \n",
       "26           life  \n",
       "27           life  \n",
       "28           life  \n",
       "29           life  \n",
       "30          humor  \n",
       "31          humor  \n",
       "32          humor  \n",
       "33          humor  \n",
       "34          humor  \n",
       "35          humor  \n",
       "36          humor  \n",
       "37          humor  \n",
       "38          humor  \n",
       "39          humor  "
      ]
     },
     "execution_count": 63,
     "metadata": {},
     "output_type": "execute_result"
    }
   ],
   "source": [
    "# Criar o DataFrame\n",
    "df_categorias = pd.DataFrame(dados)\n",
    "df_categorias"
   ]
  },
  {
   "cell_type": "markdown",
   "metadata": {
    "id": "PdkN8yuVQ-QY"
   },
   "source": [
    "# Tratamento de exceções\n",
    "\n",
    "O tratamento de erros e exceções é essencial no scraping porque garante que o programa continue funcionando mesmo diante de imprevistos, como mudanças na estrutura da página, conexões instáveis, bloqueios por parte do servidor ou ausência de elementos esperados no HTML.\n",
    "\n",
    "Sem esse cuidado, qualquer pequeno erro pode interromper toda a extração de dados, tornando o processo frágil e ineficiente.\n",
    "\n",
    "Além disso, capturar e tratar exceções permite registrar falhas, debugar com mais facilidade e até aplicar estratégias alternativas, como reintentar a requisição ou pular o item problemático, aumentando a robustez e confiabilidade do código de scraping.\n",
    "\n",
    "---"
   ]
  },
  {
   "cell_type": "code",
   "execution_count": 64,
   "metadata": {
    "colab": {
     "base_uri": "https://localhost:8080/"
    },
    "id": "ZRNLXp-qQwHE",
    "outputId": "89f37b5e-44f0-444a-9ac6-20e08c8b11c0"
   },
   "outputs": [
    {
     "data": {
      "text/plain": [
       "<Response [200]>"
      ]
     },
     "execution_count": 64,
     "metadata": {},
     "output_type": "execute_result"
    }
   ],
   "source": [
    "import requests\n",
    "from bs4 import BeautifulSoup\n",
    "\n",
    "url = \"https://br.investing.com/currencies/\"\n",
    "response = requests.get(url)\n",
    "response"
   ]
  },
  {
   "cell_type": "code",
   "execution_count": 65,
   "metadata": {
    "colab": {
     "base_uri": "https://localhost:8080/"
    },
    "id": "gZZHbVi1ULVb",
    "outputId": "3113c228-9c80-46bf-cec1-be61cbd04d28"
   },
   "outputs": [
    {
     "name": "stdout",
     "output_type": "stream",
     "text": [
      "Requisição bem-sucedida!\n",
      "\n",
      "Taxas de Câmbio e Cotação de Moedas hoje - Investing.com\n",
      "<Response [200]>\n"
     ]
    }
   ],
   "source": [
    "# aplicando validações\n",
    "\n",
    "url = \"https://br.investing.com/currencies/\"\n",
    "\n",
    "try:\n",
    "    response = requests.get(url)\n",
    "    response.raise_for_status()  # Garante que o status da resposta é 200\n",
    "except requests.exceptions.RequestException as e:\n",
    "    print(f\"Erro ao fazer a requisição \\n{e}\")\n",
    "else:\n",
    "    soup = BeautifulSoup(response.text, 'html.parser')\n",
    "    print(\"Requisição bem-sucedida!\\n\")\n",
    "    print(soup.title.text)\n",
    "    print(response)"
   ]
  },
  {
   "cell_type": "code",
   "execution_count": 67,
   "metadata": {
    "colab": {
     "base_uri": "https://localhost:8080/"
    },
    "id": "tHXr9cCkR2a1",
    "outputId": "9900ad72-9a72-4063-ccff-59c16217e943"
   },
   "outputs": [],
   "source": [
    "# Encontrar a tabela de taxas de câmbio\n",
    "try:\n",
    "    table = soup.find(\"table\", {\"class\": \"crossRatesTbl\"})\n",
    "    table\n",
    "except AttributeError as e:\n",
    "    print(f\"Erro ao encontrar a tabela de taxas de câmbio \\n{e}\")\n",
    "#table"
   ]
  },
  {
   "cell_type": "markdown",
   "metadata": {
    "id": "bWBJGMpWL2cA"
   },
   "source": [
    "## find() e find_all() com BeautifulSoup\n",
    "\n",
    "O método `find()` retorna o primeiro elemento que corresponde aos critérios de busca, enquanto `find_all()` retorna todos os elementos correspondentes em uma lista.\n",
    "\n",
    "---"
   ]
  },
  {
   "cell_type": "code",
   "execution_count": 68,
   "metadata": {
    "colab": {
     "base_uri": "https://localhost:8080/"
    },
    "id": "UumMvgD4UsTS",
    "outputId": "c9e57e97-7af8-4a56-9bde-c521a2abbd06"
   },
   "outputs": [
    {
     "name": "stdout",
     "output_type": "stream",
     "text": [
      "['', 'Código', 'Último', 'Abertura', 'Máxima', 'Mínima', 'Var.', 'Var.%', 'Hora']\n",
      "['', 'EUR/USD', '1,1580', '1,1573', '1,1588', '1,1528', '+0,0007', '+0,06%', '14:35:33']\n",
      "['', 'GBP/USD', '1,3308', '1,3291', '1,3317', '1,3260', '+0,0017', '+0,13%', '14:35:29']\n",
      "['', 'USD/JPY', '147,56', '147,15', '147,84', '146,62', '+0,41', '+0,28%', '14:35:34']\n",
      "['', 'USD/CHF', '0,8075', '0,8077', '0,8118', '0,8066', '-0,0002', '-0,02%', '14:35:30']\n",
      "['', 'AUD/USD', '0,6476', '0,6463', '0,6480', '0,6450', '+0,0013', '+0,20%', '14:35:28']\n",
      "['', 'EUR/GBP', '0,8701', '0,8711', '0,8713', '0,8680', '-0,0010', '-0,11%', '14:35:33']\n",
      "['', 'EUR/CHF', '0,9350', '0,9350', '0,9361', '0,9331', '0,0000', '0,00%', '14:35:29']\n",
      "['', 'GBP/JPY', '196,37', '195,39', '196,46', '195,04', '+0,98', '+0,50%', '14:35:35']\n",
      "['', 'USD/BRL', '5,5020', '5,4978', '5,5439', '5,4952', '+0,0040', '+0,07%', '14:35:03']\n",
      "['', 'EUR/BRL', '6,3735', '6,3613', '6,3816', '6,3371', '+0,0122', '+0,19%', '14:35:20']\n"
     ]
    }
   ],
   "source": [
    "try:\n",
    "  # Extrair os cabeçalhos da tabela\n",
    "  headers = [th.get_text(strip=True) for th in table.find(\"thead\").find_all(\"th\")]\n",
    "\n",
    "  # Extrair as linhas da tabela\n",
    "  rows = []\n",
    "  for tr in table.find(\"tbody\").find_all(\"tr\"):\n",
    "      cells = [td.get_text(strip=True) for td in tr.find_all(\"td\")]\n",
    "      rows.append(cells)\n",
    "except AttributeError as e:\n",
    "    print(f\"Erro ao extrair as linhas da tabela: {e}\")\n",
    "\n",
    "print(headers)\n",
    "for row in rows:\n",
    "    print(row)"
   ]
  },
  {
   "cell_type": "code",
   "execution_count": 69,
   "metadata": {
    "colab": {
     "base_uri": "https://localhost:8080/",
     "height": 363
    },
    "id": "kzQX47hFUgCM",
    "outputId": "fe910b47-6069-4926-89c3-b1b5cce69295"
   },
   "outputs": [
    {
     "data": {
      "text/html": [
       "<div>\n",
       "<style scoped>\n",
       "    .dataframe tbody tr th:only-of-type {\n",
       "        vertical-align: middle;\n",
       "    }\n",
       "\n",
       "    .dataframe tbody tr th {\n",
       "        vertical-align: top;\n",
       "    }\n",
       "\n",
       "    .dataframe thead th {\n",
       "        text-align: right;\n",
       "    }\n",
       "</style>\n",
       "<table border=\"1\" class=\"dataframe\">\n",
       "  <thead>\n",
       "    <tr style=\"text-align: right;\">\n",
       "      <th></th>\n",
       "      <th></th>\n",
       "      <th>Código</th>\n",
       "      <th>Último</th>\n",
       "      <th>Abertura</th>\n",
       "      <th>Máxima</th>\n",
       "      <th>Mínima</th>\n",
       "      <th>Var.</th>\n",
       "      <th>Var.%</th>\n",
       "      <th>Hora</th>\n",
       "    </tr>\n",
       "  </thead>\n",
       "  <tbody>\n",
       "    <tr>\n",
       "      <th>0</th>\n",
       "      <td></td>\n",
       "      <td>EUR/USD</td>\n",
       "      <td>1,1580</td>\n",
       "      <td>1,1573</td>\n",
       "      <td>1,1588</td>\n",
       "      <td>1,1528</td>\n",
       "      <td>+0,0007</td>\n",
       "      <td>+0,06%</td>\n",
       "      <td>14:35:33</td>\n",
       "    </tr>\n",
       "    <tr>\n",
       "      <th>1</th>\n",
       "      <td></td>\n",
       "      <td>GBP/USD</td>\n",
       "      <td>1,3308</td>\n",
       "      <td>1,3291</td>\n",
       "      <td>1,3317</td>\n",
       "      <td>1,3260</td>\n",
       "      <td>+0,0017</td>\n",
       "      <td>+0,13%</td>\n",
       "      <td>14:35:29</td>\n",
       "    </tr>\n",
       "    <tr>\n",
       "      <th>2</th>\n",
       "      <td></td>\n",
       "      <td>USD/JPY</td>\n",
       "      <td>147,56</td>\n",
       "      <td>147,15</td>\n",
       "      <td>147,84</td>\n",
       "      <td>146,62</td>\n",
       "      <td>+0,41</td>\n",
       "      <td>+0,28%</td>\n",
       "      <td>14:35:34</td>\n",
       "    </tr>\n",
       "    <tr>\n",
       "      <th>3</th>\n",
       "      <td></td>\n",
       "      <td>USD/CHF</td>\n",
       "      <td>0,8075</td>\n",
       "      <td>0,8077</td>\n",
       "      <td>0,8118</td>\n",
       "      <td>0,8066</td>\n",
       "      <td>-0,0002</td>\n",
       "      <td>-0,02%</td>\n",
       "      <td>14:35:30</td>\n",
       "    </tr>\n",
       "    <tr>\n",
       "      <th>4</th>\n",
       "      <td></td>\n",
       "      <td>AUD/USD</td>\n",
       "      <td>0,6476</td>\n",
       "      <td>0,6463</td>\n",
       "      <td>0,6480</td>\n",
       "      <td>0,6450</td>\n",
       "      <td>+0,0013</td>\n",
       "      <td>+0,20%</td>\n",
       "      <td>14:35:28</td>\n",
       "    </tr>\n",
       "    <tr>\n",
       "      <th>5</th>\n",
       "      <td></td>\n",
       "      <td>EUR/GBP</td>\n",
       "      <td>0,8701</td>\n",
       "      <td>0,8711</td>\n",
       "      <td>0,8713</td>\n",
       "      <td>0,8680</td>\n",
       "      <td>-0,0010</td>\n",
       "      <td>-0,11%</td>\n",
       "      <td>14:35:33</td>\n",
       "    </tr>\n",
       "    <tr>\n",
       "      <th>6</th>\n",
       "      <td></td>\n",
       "      <td>EUR/CHF</td>\n",
       "      <td>0,9350</td>\n",
       "      <td>0,9350</td>\n",
       "      <td>0,9361</td>\n",
       "      <td>0,9331</td>\n",
       "      <td>0,0000</td>\n",
       "      <td>0,00%</td>\n",
       "      <td>14:35:29</td>\n",
       "    </tr>\n",
       "    <tr>\n",
       "      <th>7</th>\n",
       "      <td></td>\n",
       "      <td>GBP/JPY</td>\n",
       "      <td>196,37</td>\n",
       "      <td>195,39</td>\n",
       "      <td>196,46</td>\n",
       "      <td>195,04</td>\n",
       "      <td>+0,98</td>\n",
       "      <td>+0,50%</td>\n",
       "      <td>14:35:35</td>\n",
       "    </tr>\n",
       "    <tr>\n",
       "      <th>8</th>\n",
       "      <td></td>\n",
       "      <td>USD/BRL</td>\n",
       "      <td>5,5020</td>\n",
       "      <td>5,4978</td>\n",
       "      <td>5,5439</td>\n",
       "      <td>5,4952</td>\n",
       "      <td>+0,0040</td>\n",
       "      <td>+0,07%</td>\n",
       "      <td>14:35:03</td>\n",
       "    </tr>\n",
       "    <tr>\n",
       "      <th>9</th>\n",
       "      <td></td>\n",
       "      <td>EUR/BRL</td>\n",
       "      <td>6,3735</td>\n",
       "      <td>6,3613</td>\n",
       "      <td>6,3816</td>\n",
       "      <td>6,3371</td>\n",
       "      <td>+0,0122</td>\n",
       "      <td>+0,19%</td>\n",
       "      <td>14:35:20</td>\n",
       "    </tr>\n",
       "  </tbody>\n",
       "</table>\n",
       "</div>"
      ],
      "text/plain": [
       "      Código  Último Abertura  Máxima  Mínima     Var.   Var.%      Hora\n",
       "0    EUR/USD  1,1580   1,1573  1,1588  1,1528  +0,0007  +0,06%  14:35:33\n",
       "1    GBP/USD  1,3308   1,3291  1,3317  1,3260  +0,0017  +0,13%  14:35:29\n",
       "2    USD/JPY  147,56   147,15  147,84  146,62    +0,41  +0,28%  14:35:34\n",
       "3    USD/CHF  0,8075   0,8077  0,8118  0,8066  -0,0002  -0,02%  14:35:30\n",
       "4    AUD/USD  0,6476   0,6463  0,6480  0,6450  +0,0013  +0,20%  14:35:28\n",
       "5    EUR/GBP  0,8701   0,8711  0,8713  0,8680  -0,0010  -0,11%  14:35:33\n",
       "6    EUR/CHF  0,9350   0,9350  0,9361  0,9331   0,0000   0,00%  14:35:29\n",
       "7    GBP/JPY  196,37   195,39  196,46  195,04    +0,98  +0,50%  14:35:35\n",
       "8    USD/BRL  5,5020   5,4978  5,5439  5,4952  +0,0040  +0,07%  14:35:03\n",
       "9    EUR/BRL  6,3735   6,3613  6,3816  6,3371  +0,0122  +0,19%  14:35:20"
      ]
     },
     "execution_count": 69,
     "metadata": {},
     "output_type": "execute_result"
    }
   ],
   "source": [
    "df_moedas = pd.DataFrame(rows, columns=headers)\n",
    "df_moedas"
   ]
  },
  {
   "cell_type": "markdown",
   "metadata": {
    "id": "Mb2spw_QYk9i"
   },
   "source": [
    "## **Permissões e Ações legais**\n",
    "\n",
    "Antes de iniciar a construção de um scraper, é fundamental verificar as permissões e considerar as implicações legais dessa prática. Muitos sites possuem termos de uso que proíbem explicitamente a coleta automatizada de dados, e ignorar essas restrições pode resultar em consequências legais, como notificações de cessação, bloqueio de IPs ou ações judiciais.\n",
    "\n",
    "Além disso, o scraping de dados pessoais ou sensíveis sem consentimento pode violar leis de privacidade, como a Lei Geral de Proteção de Dados (LGPD) no Brasil. Portanto, revisar os termos de uso e garantir conformidade com as regulamentações é essencial para uma prática ética e legal de web scraping.\n",
    "\n",
    "Vejamos esse exemplo:\n",
    "\n",
    "---"
   ]
  },
  {
   "cell_type": "code",
   "execution_count": 70,
   "metadata": {
    "colab": {
     "base_uri": "https://localhost:8080/"
    },
    "id": "W1u6_vQQbH6q",
    "outputId": "97632473-b042-43dc-f5f0-49369197c30e"
   },
   "outputs": [
    {
     "name": "stdout",
     "output_type": "stream",
     "text": [
      "Requisição bem-sucedida!\n",
      "\n",
      "<Response [403]>\n"
     ]
    }
   ],
   "source": [
    "import requests\n",
    "from bs4 import BeautifulSoup\n",
    "\n",
    "url = \"https://www.imdb.com/pt/chart/top/\"\n",
    "\n",
    "try:\n",
    "    response = requests.get(url)\n",
    "except requests.exceptions.RequestException as e:\n",
    "    print(f\"Erro ao fazer a requisição \\n{e}\")\n",
    "else:\n",
    "    soup = BeautifulSoup(response.text, 'html.parser')\n",
    "    print(\"Requisição bem-sucedida!\\n\")\n",
    "    print(response)"
   ]
  },
  {
   "cell_type": "markdown",
   "metadata": {
    "id": "UdqdSiJtcKTW"
   },
   "source": [
    "O `403` indica que o servidor recusou a sua requisição, mesmo que ela tenha sido compreendida corretamente.\n",
    "\n",
    "> Isso geralmente acontece porque:\n",
    "\n",
    "- O site bloqueou seu acesso por não reconhecer seu navegador (user-agent).\n",
    "\n",
    "- Você está tentando acessar um recurso protegido ou restrito.\n",
    "\n",
    "- O servidor detectou que você está usando um bot ou script (como o requests), e não permite esse tipo de acesso."
   ]
  }
 ],
 "metadata": {
  "colab": {
   "provenance": []
  },
  "kernelspec": {
   "display_name": "Python 3 (ipykernel)",
   "language": "python",
   "name": "python3"
  },
  "language_info": {
   "codemirror_mode": {
    "name": "ipython",
    "version": 3
   },
   "file_extension": ".py",
   "mimetype": "text/x-python",
   "name": "python",
   "nbconvert_exporter": "python",
   "pygments_lexer": "ipython3",
   "version": "3.9.23"
  }
 },
 "nbformat": 4,
 "nbformat_minor": 4
}
